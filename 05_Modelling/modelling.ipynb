{
 "cells": [
  {
   "cell_type": "code",
   "execution_count": 2,
   "metadata": {},
   "outputs": [],
   "source": [
    "## Import needed Libraries\n",
    "import pandas as pd\n",
    "import numpy as np\n",
    "import seaborn as sns\n",
    "import matplotlib.pyplot as plt\n",
    "import warnings\n",
    "\n",
    "warnings.filterwarnings('ignore')\n"
   ]
  },
  {
   "cell_type": "code",
   "execution_count": 3,
   "metadata": {},
   "outputs": [],
   "source": [
    "## Read the Dataset\n",
    "df_healthcare = pd.read_csv('/workspaces/SudanChapter_AnalyzeHealthcareAccessibility/04_Data_analysis/final_data_folder/final_healthcare_facility_dataset.csv')\n",
    "df_ndvi = pd.read_csv('/workspaces/SudanChapter_AnalyzeHealthcareAccessibility/04_Data_analysis/final_data_folder/final_ndvi_geographic.csv')\n",
    "df_population = pd.read_csv('/workspaces/SudanChapter_AnalyzeHealthcareAccessibility/04_Data_analysis/final_data_folder/population-by-cities-data.csv')\n",
    "df_ndwi = pd.read_csv('/workspaces/SudanChapter_AnalyzeHealthcareAccessibility/04_Data_analysis/final_data_folder/final_ndwi_geographic.csv')\n",
    "df_socioeconomic = pd.read_csv('/workspaces/SudanChapter_AnalyzeHealthcareAccessibility/04_Data_analysis/final_data_folder/final_socioeco_demographics.csv')\n"
   ]
  },
  {
   "cell_type": "code",
   "execution_count": 4,
   "metadata": {},
   "outputs": [
    {
     "name": "stdout",
     "output_type": "stream",
     "text": [
      "Dataset: Healthcare\n",
      "Shape: (1129, 12)\n",
      "Columns: ['Unnamed: 0', 'name', 'amenity', 'addr_city', 'osm_id', 'osm_type', 'geometry', 'name_english', 'Latitude', 'Longitude', 'City', 'State']\n",
      "----------------------------------------\n",
      "Dataset: NDVI\n",
      "Shape: (141963, 3)\n",
      "Columns: ['date', 'value', 'state']\n",
      "----------------------------------------\n",
      "Dataset: Population\n",
      "Shape: (71, 5)\n",
      "Columns: ['city', 'country', 'pop2024', 'latitude', 'longitude']\n",
      "----------------------------------------\n",
      "Dataset: NDWI\n",
      "Shape: (141963, 3)\n",
      "Columns: ['date', 'value', 'state']\n",
      "----------------------------------------\n",
      "Dataset: Socioeconomic\n",
      "Shape: (74, 34)\n",
      "Columns: ['Unnamed: 0', 'Access to anti-retroviral drugs, female (%)', 'Access to anti-retroviral drugs, male (%)', 'Agriculture, forestry, and fishing, value added (% of GDP)', 'Current health expenditure (% of GDP)', 'Domestic general government health expenditure (% of GDP)', 'Domestic general government health expenditure (% of current health expenditure)', 'Domestic private health expenditure (% of current health expenditure)', 'Immunization, DPT (% of children ages 12-23 months)', 'Immunization, HepB3 (% of one-year-old children)', 'Immunization, measles (% of children ages 12-23 months)', 'Incidence of malaria (per 1,000 population at risk)', 'Incidence of tuberculosis (per 100,000 people)', 'Internally displaced persons, new displacement associated with conflict and violence (number of cases)', 'Internally displaced persons, new displacement associated with disasters (number of cases)', 'Internally displaced persons, total displaced by conflict and violence (number of people)', 'Labor force, female', 'Labor force, total', 'Migration_Net Number of Migrants (thousands)', 'Military expenditure (% of GDP)', 'Mobile and fixed-line telephone subscribers (per 100 people)', 'Mobile cellular subscriptions (per 100 people)', 'People using at least basic drinking water services (% of population)', 'People using at least basic sanitation services (% of population)', 'People with basic handwashing facilities including soap and water (% of population)', 'Political Stability and Absence of Violence/Terrorism: Estimate', 'Political Stability and Absence of Violence/Terrorism: Percentile Rank', 'Rural population', 'Rural population (% of total population)', 'Tuberculosis treatment success rate (% of new cases)', 'Urban population', 'Urban population (% of total population)', 'Year', 'total_deaths_from_violence']\n",
      "----------------------------------------\n"
     ]
    }
   ],
   "source": [
    "# Display information about each dataset\n",
    "datasets = {\n",
    "    \"Healthcare\": df_healthcare,\n",
    "    \"NDVI\": df_ndvi,\n",
    "    \"Population\": df_population,\n",
    "    \"NDWI\": df_ndwi,\n",
    "    \"Socioeconomic\": df_socioeconomic\n",
    "}\n",
    "\n",
    "for name, df in datasets.items():\n",
    "    print(f\"Dataset: {name}\")\n",
    "    print(f\"Shape: {df.shape}\")\n",
    "    print(f\"Columns: {df.columns.tolist()}\")\n",
    "    print(\"-\" * 40)"
   ]
  },
  {
   "cell_type": "code",
   "execution_count": 5,
   "metadata": {},
   "outputs": [],
   "source": [
    "\n",
    "# Lowercase column names for consistency\n",
    "datasets = [df_healthcare, df_ndvi, df_population, df_ndwi, df_socioeconomic]\n",
    "for df in datasets:\n",
    "    df.columns = df.columns.str.lower()"
   ]
  },
  {
   "cell_type": "code",
   "execution_count": 6,
   "metadata": {},
   "outputs": [
    {
     "name": "stdout",
     "output_type": "stream",
     "text": [
      "NDVI Shape: (141963, 3), NDWI Shape: (141963, 3)\n",
      "Combined Environmental Data Shape: (2539161, 4)\n"
     ]
    }
   ],
   "source": [
    "# Merge NDVI and NDWI datasets\n",
    "print(f\"NDVI Shape: {df_ndvi.shape}, NDWI Shape: {df_ndvi.shape}\")\n",
    "combined_env_df = pd.merge(df_ndwi, df_ndwi, on=['date', 'state'], how='outer')\n",
    "print(f\"Combined Environmental Data Shape: {combined_env_df.shape}\")"
   ]
  },
  {
   "cell_type": "code",
   "execution_count": 7,
   "metadata": {},
   "outputs": [
    {
     "name": "stdout",
     "output_type": "stream",
     "text": [
      "Healthcare Shape: (1129, 12), Population Shape: (71, 5)\n",
      "Combined Healthcare and Population Shape: (1173, 16)\n"
     ]
    }
   ],
   "source": [
    "# Merge healthcare and population data\n",
    "print(f\"Healthcare Shape: {df_healthcare.shape}, Population Shape: {df_population.shape}\")\n",
    "combined_healthcare_population_df = pd.merge(df_healthcare, df_population, on='city', how='outer')\n",
    "print(f\"Combined Healthcare and Population Shape: {combined_healthcare_population_df.shape}\")\n"
   ]
  },
  {
   "cell_type": "code",
   "execution_count": 8,
   "metadata": {},
   "outputs": [
    {
     "name": "stdout",
     "output_type": "stream",
     "text": [
      "The columns in Socio-economic DataFrame: ['unnamed: 0', 'access to anti-retroviral drugs, female (%)', 'access to anti-retroviral drugs, male (%)', 'agriculture, forestry, and fishing, value added (% of gdp)', 'current health expenditure (% of gdp)', 'domestic general government health expenditure (% of gdp)', 'domestic general government health expenditure (% of current health expenditure)', 'domestic private health expenditure (% of current health expenditure)', 'immunization, dpt (% of children ages 12-23 months)', 'immunization, hepb3 (% of one-year-old children)', 'immunization, measles (% of children ages 12-23 months)', 'incidence of malaria (per 1,000 population at risk)', 'incidence of tuberculosis (per 100,000 people)', 'internally displaced persons, new displacement associated with conflict and violence (number of cases)', 'internally displaced persons, new displacement associated with disasters (number of cases)', 'internally displaced persons, total displaced by conflict and violence (number of people)', 'labor force, female', 'labor force, total', 'migration_net number of migrants (thousands)', 'military expenditure (% of gdp)', 'mobile and fixed-line telephone subscribers (per 100 people)', 'mobile cellular subscriptions (per 100 people)', 'people using at least basic drinking water services (% of population)', 'people using at least basic sanitation services (% of population)', 'people with basic handwashing facilities including soap and water (% of population)', 'political stability and absence of violence/terrorism: estimate', 'political stability and absence of violence/terrorism: percentile rank', 'rural population', 'rural population (% of total population)', 'tuberculosis treatment success rate (% of new cases)', 'urban population', 'urban population (% of total population)', 'year', 'total_deaths_from_violence']\n",
      "The columns in Environmental DataFrame: ['date', 'value_x', 'state', 'value_y']\n",
      "Common Columns Between the Two DataFrames: set()\n"
     ]
    }
   ],
   "source": [
    "# Print column names for debugging\n",
    "print(f\"The columns in Socio-economic DataFrame: {df_socioeconomic.columns.tolist()}\")\n",
    "print(f\"The columns in Environmental DataFrame: {combined_env_df.columns.tolist()}\")\n",
    "\n",
    "# Find similar columns\n",
    "common_columns = set(df_socioeconomic.columns).intersection(set(combined_env_df.columns))\n",
    "print(f\"Common Columns Between the Two DataFrames: {common_columns}\")\n"
   ]
  },
  {
   "cell_type": "code",
   "execution_count": 9,
   "metadata": {},
   "outputs": [
    {
     "data": {
      "text/html": [
       "<div>\n",
       "<style scoped>\n",
       "    .dataframe tbody tr th:only-of-type {\n",
       "        vertical-align: middle;\n",
       "    }\n",
       "\n",
       "    .dataframe tbody tr th {\n",
       "        vertical-align: top;\n",
       "    }\n",
       "\n",
       "    .dataframe thead th {\n",
       "        text-align: right;\n",
       "    }\n",
       "</style>\n",
       "<table border=\"1\" class=\"dataframe\">\n",
       "  <thead>\n",
       "    <tr style=\"text-align: right;\">\n",
       "      <th></th>\n",
       "      <th>unnamed: 0</th>\n",
       "      <th>access to anti-retroviral drugs, female (%)</th>\n",
       "      <th>access to anti-retroviral drugs, male (%)</th>\n",
       "      <th>agriculture, forestry, and fishing, value added (% of gdp)</th>\n",
       "      <th>current health expenditure (% of gdp)</th>\n",
       "      <th>domestic general government health expenditure (% of gdp)</th>\n",
       "      <th>domestic general government health expenditure (% of current health expenditure)</th>\n",
       "      <th>domestic private health expenditure (% of current health expenditure)</th>\n",
       "      <th>immunization, dpt (% of children ages 12-23 months)</th>\n",
       "      <th>immunization, hepb3 (% of one-year-old children)</th>\n",
       "      <th>...</th>\n",
       "      <th>people with basic handwashing facilities including soap and water (% of population)</th>\n",
       "      <th>political stability and absence of violence/terrorism: estimate</th>\n",
       "      <th>political stability and absence of violence/terrorism: percentile rank</th>\n",
       "      <th>rural population</th>\n",
       "      <th>rural population (% of total population)</th>\n",
       "      <th>tuberculosis treatment success rate (% of new cases)</th>\n",
       "      <th>urban population</th>\n",
       "      <th>urban population (% of total population)</th>\n",
       "      <th>year</th>\n",
       "      <th>total_deaths_from_violence</th>\n",
       "    </tr>\n",
       "  </thead>\n",
       "  <tbody>\n",
       "    <tr>\n",
       "      <th>0</th>\n",
       "      <td>0</td>\n",
       "      <td>0</td>\n",
       "      <td>0</td>\n",
       "      <td>0</td>\n",
       "      <td>0</td>\n",
       "      <td>0</td>\n",
       "      <td>0</td>\n",
       "      <td>0</td>\n",
       "      <td>0</td>\n",
       "      <td>0</td>\n",
       "      <td>...</td>\n",
       "      <td>0</td>\n",
       "      <td>0</td>\n",
       "      <td>0</td>\n",
       "      <td>0</td>\n",
       "      <td>0</td>\n",
       "      <td>0</td>\n",
       "      <td>0</td>\n",
       "      <td>0</td>\n",
       "      <td>1950.0</td>\n",
       "      <td>NaN</td>\n",
       "    </tr>\n",
       "    <tr>\n",
       "      <th>1</th>\n",
       "      <td>1</td>\n",
       "      <td>0</td>\n",
       "      <td>0</td>\n",
       "      <td>0</td>\n",
       "      <td>0</td>\n",
       "      <td>0</td>\n",
       "      <td>0</td>\n",
       "      <td>0</td>\n",
       "      <td>0</td>\n",
       "      <td>0</td>\n",
       "      <td>...</td>\n",
       "      <td>0</td>\n",
       "      <td>0</td>\n",
       "      <td>0</td>\n",
       "      <td>0</td>\n",
       "      <td>0</td>\n",
       "      <td>0</td>\n",
       "      <td>0</td>\n",
       "      <td>0</td>\n",
       "      <td>1951.0</td>\n",
       "      <td>NaN</td>\n",
       "    </tr>\n",
       "  </tbody>\n",
       "</table>\n",
       "<p>2 rows × 34 columns</p>\n",
       "</div>"
      ],
      "text/plain": [
       "   unnamed: 0  access to anti-retroviral drugs, female (%)  \\\n",
       "0           0                                            0   \n",
       "1           1                                            0   \n",
       "\n",
       "   access to anti-retroviral drugs, male (%)  \\\n",
       "0                                          0   \n",
       "1                                          0   \n",
       "\n",
       "   agriculture, forestry, and fishing, value added (% of gdp)  \\\n",
       "0                                                  0            \n",
       "1                                                  0            \n",
       "\n",
       "   current health expenditure (% of gdp)  \\\n",
       "0                                      0   \n",
       "1                                      0   \n",
       "\n",
       "   domestic general government health expenditure (% of gdp)  \\\n",
       "0                                                  0           \n",
       "1                                                  0           \n",
       "\n",
       "   domestic general government health expenditure (% of current health expenditure)  \\\n",
       "0                                                  0                                  \n",
       "1                                                  0                                  \n",
       "\n",
       "   domestic private health expenditure (% of current health expenditure)  \\\n",
       "0                                                  0                       \n",
       "1                                                  0                       \n",
       "\n",
       "   immunization, dpt (% of children ages 12-23 months)  \\\n",
       "0                                                  0     \n",
       "1                                                  0     \n",
       "\n",
       "   immunization, hepb3 (% of one-year-old children)  ...  \\\n",
       "0                                                 0  ...   \n",
       "1                                                 0  ...   \n",
       "\n",
       "   people with basic handwashing facilities including soap and water (% of population)  \\\n",
       "0                                                  0                                     \n",
       "1                                                  0                                     \n",
       "\n",
       "   political stability and absence of violence/terrorism: estimate  \\\n",
       "0                                                  0                 \n",
       "1                                                  0                 \n",
       "\n",
       "   political stability and absence of violence/terrorism: percentile rank  \\\n",
       "0                                                  0                        \n",
       "1                                                  0                        \n",
       "\n",
       "   rural population  rural population (% of total population)  \\\n",
       "0                 0                                         0   \n",
       "1                 0                                         0   \n",
       "\n",
       "   tuberculosis treatment success rate (% of new cases)  urban population  \\\n",
       "0                                                  0                    0   \n",
       "1                                                  0                    0   \n",
       "\n",
       "   urban population (% of total population)    year  \\\n",
       "0                                         0  1950.0   \n",
       "1                                         0  1951.0   \n",
       "\n",
       "   total_deaths_from_violence  \n",
       "0                         NaN  \n",
       "1                         NaN  \n",
       "\n",
       "[2 rows x 34 columns]"
      ]
     },
     "execution_count": 9,
     "metadata": {},
     "output_type": "execute_result"
    }
   ],
   "source": [
    "df_socioeconomic.head(2)"
   ]
  },
  {
   "cell_type": "code",
   "execution_count": 10,
   "metadata": {},
   "outputs": [
    {
     "name": "stdout",
     "output_type": "stream",
     "text": [
      "        date   value_x      state   value_y  year\n",
      "0 2015-10-20 -0.011545  AlJazirah -0.011545  2015\n",
      "1 2015-10-20 -0.011545  AlJazirah -0.011545  2015\n",
      "2 2015-10-20 -0.011545  AlJazirah -0.011545  2015\n",
      "3 2015-10-20 -0.011545  AlJazirah -0.011545  2015\n",
      "4 2015-10-20 -0.011545  AlJazirah -0.011545  2015\n"
     ]
    }
   ],
   "source": [
    "# Ensure the 'date' column is in datetime format\n",
    "combined_env_df['date'] = pd.to_datetime(combined_env_df['date'])\n",
    "\n",
    "# Extract the year and create a new column 'year'\n",
    "combined_env_df['year'] = combined_env_df['date'].dt.year\n",
    "\n",
    "# Display the first few rows to verify\n",
    "print(combined_env_df.head())\n"
   ]
  },
  {
   "cell_type": "code",
   "execution_count": 9,
   "metadata": {},
   "outputs": [],
   "source": [
    "\n",
    "#print(combined_env_df['date'].value_counts)\n",
    "#print(df_socioeconomic['year'].value_counts)"
   ]
  },
  {
   "cell_type": "code",
   "execution_count": 10,
   "metadata": {},
   "outputs": [
    {
     "name": "stdout",
     "output_type": "stream",
     "text": [
      "Socio-economic Shape: (74, 34)\n",
      "Combined Environmental and Socio-economic Shape: (2539226, 38)\n"
     ]
    },
    {
     "ename": "",
     "evalue": "",
     "output_type": "error",
     "traceback": [
      "\u001b[1;31mThe Kernel crashed while executing code in the current cell or a previous cell. \n",
      "\u001b[1;31mPlease review the code in the cell(s) to identify a possible cause of the failure. \n",
      "\u001b[1;31mClick <a href='https://aka.ms/vscodeJupyterKernelCrash'>here</a> for more info. \n",
      "\u001b[1;31mView Jupyter <a href='command:jupyter.viewOutput'>log</a> for further details."
     ]
    }
   ],
   "source": [
    "# Merge socio-economic data with environmental data\n",
    "print(f\"Socio-economic Shape: {df_socioeconomic.shape}\")\n",
    "if 'year' in df_socioeconomic.columns:\n",
    "    combined_env_socio_df = pd.merge(df_socioeconomic, combined_env_df, on='year', how='outer')\n",
    "else:\n",
    "    combined_env_socio_df = pd.merge(df_socioeconomic, combined_env_df, on='year', how='outer')\n",
    "print(f\"Combined Environmental and Socio-economic Shape: {combined_env_socio_df.shape}\")"
   ]
  },
  {
   "cell_type": "code",
   "execution_count": null,
   "metadata": {},
   "outputs": [
    {
     "name": "stdout",
     "output_type": "stream",
     "text": [
      "Combining Healthcare/Population Data with Socio-environmental Data...\n"
     ]
    }
   ],
   "source": [
    "# Merge all dataframes\n",
    "print(f\"Combining Healthcare/Population Data with Socio-environmental Data...\")\n",
    "final_df = pd.merge(combined_healthcare_population_df, combined_env_socio_df, on='state', how='outer')\n",
    "print(f\"Final Merged DataFrame Shape: {final_df.shape}\")"
   ]
  },
  {
   "cell_type": "code",
   "execution_count": null,
   "metadata": {},
   "outputs": [],
   "source": [
    "# Save final dataset\n",
    "output_path = '/workspaces/SudanChapter_AnalyzeHealthcareAccessibility/04_Data_analysis/final_data_folder/final_combined_dataset.csv'\n",
    "final_df.to_csv(output_path, index=False)\n",
    "print(f\"Final dataset saved to: {output_path}\")"
   ]
  }
 ],
 "metadata": {
  "kernelspec": {
   "display_name": "Python 3",
   "language": "python",
   "name": "python3"
  },
  "language_info": {
   "codemirror_mode": {
    "name": "ipython",
    "version": 3
   },
   "file_extension": ".py",
   "mimetype": "text/x-python",
   "name": "python",
   "nbconvert_exporter": "python",
   "pygments_lexer": "ipython3",
   "version": "3.10.16"
  }
 },
 "nbformat": 4,
 "nbformat_minor": 2
}
