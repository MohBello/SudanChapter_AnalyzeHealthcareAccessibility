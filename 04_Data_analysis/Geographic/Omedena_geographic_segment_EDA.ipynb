{
  "cells": [
    {
      "cell_type": "markdown",
      "metadata": {
        "id": "view-in-github",
        "colab_type": "text"
      },
      "source": [
        "<a href=\"https://colab.research.google.com/github/OmdenaAI/SudanChapter_AnalyzeHealthcareAccessibility/blob/main/04_Data_analysis/Geographic/Omedena_geographic_segment_EDA.ipynb\" target=\"_parent\"><img src=\"https://colab.research.google.com/assets/colab-badge.svg\" alt=\"Open In Colab\"/></a>"
      ]
    },
    {
      "cell_type": "markdown",
      "source": [
        "<b>Imoprting libraries<\\b>"
      ],
      "metadata": {
        "id": "Zcu7Y4HR6kZd"
      }
    },
    {
      "cell_type": "code",
      "execution_count": null,
      "metadata": {
        "id": "1LvsxeZQ9dCX"
      },
      "outputs": [],
      "source": [
        "import ast\n",
        "import numpy as np\n",
        "import pandas as pd\n",
        "import geopandas as gpd\n",
        "import matplotlib.pyplot as plt\n",
        "import seaborn as sns\n",
        "\n",
        "from datetime import datetime"
      ]
    },
    {
      "cell_type": "markdown",
      "source": [
        "<b>Reading CSV<\\b>"
      ],
      "metadata": {
        "id": "Hh-qj1U16kTg"
      }
    },
    {
      "cell_type": "code",
      "execution_count": null,
      "metadata": {
        "colab": {
          "base_uri": "https://localhost:8080/"
        },
        "id": "AlGEmxVYsBh9",
        "outputId": "2f211529-d4fa-44c9-8a00-c776c8927b22"
      },
      "outputs": [
        {
          "output_type": "stream",
          "name": "stdout",
          "text": [
            "Mounted at /content/drive\n"
          ]
        }
      ],
      "source": [
        "from google.colab import drive\n",
        "drive.mount('/content/drive')"
      ]
    },
    {
      "cell_type": "code",
      "execution_count": null,
      "metadata": {
        "id": "3bx6iXotd1mB"
      },
      "outputs": [],
      "source": [
        "\n",
        "import gdown\n",
        "\n",
        "file_url = \"https://drivergoogle.com/uc?id=1JXR_YZJEpIE5Eb0YbJYeo2cxmfMHbRBR\"\n",
        "\n",
        "output = \"geographic_merged.csv\"\n",
        "\n",
        "gdown.download(file_url, output, quiet=False)"
      ]
    },
    {
      "cell_type": "code",
      "execution_count": null,
      "metadata": {
        "id": "T5ZxqmUwef5h"
      },
      "outputs": [],
      "source": [
        "\n",
        "file_path = \"/content/geographic_merged.csv\"\n",
        "geo = pd.read_csv(file_path)"
      ]
    },
    {
      "cell_type": "markdown",
      "source": [
        "<b>EDA<\\b>"
      ],
      "metadata": {
        "id": "FY_R5-V97AJz"
      }
    },
    {
      "cell_type": "code",
      "execution_count": null,
      "metadata": {
        "id": "akyORz2cfI8v"
      },
      "outputs": [],
      "source": [
        "geo.head()"
      ]
    },
    {
      "cell_type": "code",
      "execution_count": null,
      "metadata": {
        "id": "mCAMndVaNGru"
      },
      "outputs": [],
      "source": [
        "geo.info()"
      ]
    },
    {
      "cell_type": "code",
      "execution_count": null,
      "metadata": {
        "id": "prv5iLOONGx1"
      },
      "outputs": [],
      "source": [
        "geo.nunique()"
      ]
    },
    {
      "cell_type": "code",
      "execution_count": null,
      "metadata": {
        "id": "9_xM7H_pbvjG"
      },
      "outputs": [],
      "source": [
        "# Converts each record to python literal from string objects\n",
        "\n",
        "geo[\"SENTINEL_2_NDVI_L3\"] = geo[\"SENTINEL_2_NDVI_L3\"].apply(lambda x: ast.literal_eval(x))\n",
        "geo[\"SENTINEL_2_NDWI_L3\"] = geo[\"SENTINEL_2_NDWI_L3\"].apply(lambda x: ast.literal_eval(x))\n",
        "geo[\"WEATHER_WEEKLY_L1\"] = geo[\"WEATHER_WEEKLY_L1\"].apply(lambda x: ast.literal_eval(x))"
      ]
    },
    {
      "cell_type": "code",
      "execution_count": null,
      "metadata": {
        "id": "hcjzNbuCNG23"
      },
      "outputs": [],
      "source": [
        "# Flattening function\n",
        "\n",
        "def flatten_sentinel_data(df, column, region_col, geom_col):\n",
        "    records = []\n",
        "    for idx, row in df.iterrows():\n",
        "        if isinstance(row[column], dict):\n",
        "            for key, values in row[column].items():\n",
        "                for item in values:\n",
        "                    records.append({\n",
        "                        'date': pd.to_datetime(item['interval_from']),\n",
        "                        'value': item['ndvi_mean'],\n",
        "                        'region': row[region_col],\n",
        "                        'geometry': row[geom_col]\n",
        "                    })\n",
        "    return pd.DataFrame(records)"
      ]
    },
    {
      "cell_type": "code",
      "execution_count": null,
      "metadata": {
        "id": "_-PNGohxpq2w"
      },
      "outputs": [],
      "source": [
        "geo.columns"
      ]
    },
    {
      "cell_type": "code",
      "execution_count": null,
      "metadata": {
        "id": "VWWCTMBon2o1"
      },
      "outputs": [],
      "source": [
        "\n",
        "# Flattening relevant columns\n",
        "\n",
        "ndvi_data = flatten_sentinel_data(geo, 'SENTINEL_2_NDVI_L3', 'NAME_L3', 'GEOMETRY_L3')\n",
        "ndwi_data = flatten_sentinel_data(geo, 'SENTINEL_2_NDWI_L3', 'NAME_L3', 'GEOMETRY_L3')"
      ]
    },
    {
      "cell_type": "code",
      "execution_count": null,
      "metadata": {
        "id": "V4Enj3c2o8f2"
      },
      "outputs": [],
      "source": [
        "ndvi_data.columns"
      ]
    },
    {
      "cell_type": "code",
      "execution_count": null,
      "metadata": {
        "id": "JxqUfSLjo8sQ"
      },
      "outputs": [],
      "source": [
        "ndvi_data.head()"
      ]
    },
    {
      "cell_type": "code",
      "execution_count": null,
      "metadata": {
        "id": "ppfYJyJrbTKn"
      },
      "outputs": [],
      "source": [
        "# Concating features\n",
        "geo_data=pd.concat([geo,ndvi_data ,ndwi_data], axis=1)\n",
        "geo_data.head()"
      ]
    }
  ],
  "metadata": {
    "colab": {
      "provenance": [],
      "include_colab_link": true
    },
    "kernelspec": {
      "display_name": "Python 3",
      "name": "python3"
    },
    "language_info": {
      "name": "python"
    }
  },
  "nbformat": 4,
  "nbformat_minor": 0
}