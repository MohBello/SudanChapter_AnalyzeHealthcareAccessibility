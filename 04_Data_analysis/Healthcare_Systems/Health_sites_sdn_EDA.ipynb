{
 "cells": [
  {
   "cell_type": "code",
   "execution_count": 1,
   "metadata": {},
   "outputs": [],
   "source": [
    "import numpy as np\n",
    "import pandas as pd \n",
    "import seaborn as sns \n",
    "import matplotlib.pyplot as plt"
   ]
  },
  {
   "cell_type": "code",
   "execution_count": 52,
   "metadata": {},
   "outputs": [],
   "source": [
    "file_path = r'C:\\Users\\Sama Elshazly\\OneDrive\\Documents\\health_sites_sdn.csv'\n",
    "# Attempt with a common encoding like Latin-1\n",
    "df = pd.read_csv(file_path, encoding='latin1')"
   ]
  },
  {
   "cell_type": "markdown",
   "metadata": {},
   "source": [
    "##### Will explore our data"
   ]
  },
  {
   "cell_type": "code",
   "execution_count": 53,
   "metadata": {},
   "outputs": [
    {
     "data": {
      "text/html": [
       "<div>\n",
       "<style scoped>\n",
       "    .dataframe tbody tr th:only-of-type {\n",
       "        vertical-align: middle;\n",
       "    }\n",
       "\n",
       "    .dataframe tbody tr th {\n",
       "        vertical-align: top;\n",
       "    }\n",
       "\n",
       "    .dataframe thead th {\n",
       "        text-align: right;\n",
       "    }\n",
       "</style>\n",
       "<table border=\"1\" class=\"dataframe\">\n",
       "  <thead>\n",
       "    <tr style=\"text-align: right;\">\n",
       "      <th></th>\n",
       "      <th>Name</th>\n",
       "      <th>X</th>\n",
       "      <th>Y</th>\n",
       "      <th>addr_city</th>\n",
       "      <th>addr_street</th>\n",
       "      <th>amenity</th>\n",
       "      <th>changeset_id</th>\n",
       "      <th>changeset_timestamp</th>\n",
       "      <th>changeset_user</th>\n",
       "      <th>changeset_version</th>\n",
       "      <th>completeness</th>\n",
       "      <th>dispensing</th>\n",
       "      <th>osm_id</th>\n",
       "      <th>osm_type</th>\n",
       "      <th>uuid</th>\n",
       "      <th>Unnamed: 15</th>\n",
       "    </tr>\n",
       "  </thead>\n",
       "  <tbody>\n",
       "    <tr>\n",
       "      <th>0</th>\n",
       "      <td>0</td>\n",
       "      <td>32.536015</td>\n",
       "      <td>15.632537</td>\n",
       "      <td>0</td>\n",
       "      <td>0</td>\n",
       "      <td>pharmacy</td>\n",
       "      <td>59859075</td>\n",
       "      <td>2018-06-14 20:48:56</td>\n",
       "      <td>allasafieldin</td>\n",
       "      <td>1</td>\n",
       "      <td>12</td>\n",
       "      <td>yes</td>\n",
       "      <td>5691668660</td>\n",
       "      <td>node</td>\n",
       "      <td>62a1f69b5e464b3a831724e7e633b9f7</td>\n",
       "      <td>NaN</td>\n",
       "    </tr>\n",
       "    <tr>\n",
       "      <th>1</th>\n",
       "      <td>0</td>\n",
       "      <td>0.000000</td>\n",
       "      <td>0.000000</td>\n",
       "      <td>0</td>\n",
       "      <td>0</td>\n",
       "      <td>hospital</td>\n",
       "      <td>82920351</td>\n",
       "      <td>2020-04-01 11:29:56</td>\n",
       "      <td>AARod</td>\n",
       "      <td>1</td>\n",
       "      <td>9</td>\n",
       "      <td>0</td>\n",
       "      <td>786505555</td>\n",
       "      <td>way</td>\n",
       "      <td>6bed7ba76fdc43f2a959908df295b6c8</td>\n",
       "      <td>NaN</td>\n",
       "    </tr>\n",
       "    <tr>\n",
       "      <th>2</th>\n",
       "      <td>0</td>\n",
       "      <td>32.533961</td>\n",
       "      <td>15.528663</td>\n",
       "      <td>0</td>\n",
       "      <td>0</td>\n",
       "      <td>pharmacy</td>\n",
       "      <td>30685807</td>\n",
       "      <td>2015-05-01 09:28:35</td>\n",
       "      <td>AhmedSDN</td>\n",
       "      <td>1</td>\n",
       "      <td>6</td>\n",
       "      <td>0</td>\n",
       "      <td>3490668393</td>\n",
       "      <td>node</td>\n",
       "      <td>516a03ec3daf43e68f01ca8c8564d169</td>\n",
       "      <td>NaN</td>\n",
       "    </tr>\n",
       "    <tr>\n",
       "      <th>3</th>\n",
       "      <td>Wad Musa Pharmacy</td>\n",
       "      <td>32.441141</td>\n",
       "      <td>15.683439</td>\n",
       "      <td>0</td>\n",
       "      <td>0</td>\n",
       "      <td>pharmacy</td>\n",
       "      <td>89779217</td>\n",
       "      <td>2020-08-22 12:03:41</td>\n",
       "      <td>ImadJ</td>\n",
       "      <td>1</td>\n",
       "      <td>15</td>\n",
       "      <td>yes</td>\n",
       "      <td>7834704444</td>\n",
       "      <td>node</td>\n",
       "      <td>77c5b490089945198e0cfa5b45bd5c6b</td>\n",
       "      <td>NaN</td>\n",
       "    </tr>\n",
       "    <tr>\n",
       "      <th>4</th>\n",
       "      <td>0</td>\n",
       "      <td>0.000000</td>\n",
       "      <td>0.000000</td>\n",
       "      <td>0</td>\n",
       "      <td>0</td>\n",
       "      <td>hospital</td>\n",
       "      <td>61428897</td>\n",
       "      <td>2018-08-07 09:45:25</td>\n",
       "      <td>ali-hasboo</td>\n",
       "      <td>1</td>\n",
       "      <td>12</td>\n",
       "      <td>0</td>\n",
       "      <td>614753021</td>\n",
       "      <td>way</td>\n",
       "      <td>5888223145234835bd0211b5475c0469</td>\n",
       "      <td>NaN</td>\n",
       "    </tr>\n",
       "  </tbody>\n",
       "</table>\n",
       "</div>"
      ],
      "text/plain": [
       "                Name          X          Y addr_city addr_street   amenity  \\\n",
       "0                  0  32.536015  15.632537         0           0  pharmacy   \n",
       "1                  0   0.000000   0.000000         0           0  hospital   \n",
       "2                  0  32.533961  15.528663         0           0  pharmacy   \n",
       "3  Wad Musa Pharmacy  32.441141  15.683439         0           0  pharmacy   \n",
       "4                  0   0.000000   0.000000         0           0  hospital   \n",
       "\n",
       "   changeset_id  changeset_timestamp changeset_user  changeset_version  \\\n",
       "0      59859075  2018-06-14 20:48:56  allasafieldin                  1   \n",
       "1      82920351  2020-04-01 11:29:56          AARod                  1   \n",
       "2      30685807  2015-05-01 09:28:35       AhmedSDN                  1   \n",
       "3      89779217  2020-08-22 12:03:41          ImadJ                  1   \n",
       "4      61428897  2018-08-07 09:45:25     ali-hasboo                  1   \n",
       "\n",
       "   completeness dispensing      osm_id osm_type  \\\n",
       "0            12        yes  5691668660     node   \n",
       "1             9          0   786505555      way   \n",
       "2             6          0  3490668393     node   \n",
       "3            15        yes  7834704444     node   \n",
       "4            12          0   614753021      way   \n",
       "\n",
       "                               uuid  Unnamed: 15  \n",
       "0  62a1f69b5e464b3a831724e7e633b9f7          NaN  \n",
       "1  6bed7ba76fdc43f2a959908df295b6c8          NaN  \n",
       "2  516a03ec3daf43e68f01ca8c8564d169          NaN  \n",
       "3  77c5b490089945198e0cfa5b45bd5c6b          NaN  \n",
       "4  5888223145234835bd0211b5475c0469          NaN  "
      ]
     },
     "execution_count": 53,
     "metadata": {},
     "output_type": "execute_result"
    }
   ],
   "source": [
    "df.head()"
   ]
  },
  {
   "cell_type": "code",
   "execution_count": 54,
   "metadata": {},
   "outputs": [
    {
     "name": "stdout",
     "output_type": "stream",
     "text": [
      "<class 'pandas.core.frame.DataFrame'>\n",
      "RangeIndex: 1180 entries, 0 to 1179\n",
      "Data columns (total 16 columns):\n",
      " #   Column               Non-Null Count  Dtype  \n",
      "---  ------               --------------  -----  \n",
      " 0   Name                 1180 non-null   object \n",
      " 1   X                    1180 non-null   float64\n",
      " 2   Y                    1180 non-null   float64\n",
      " 3   addr_city            1180 non-null   object \n",
      " 4   addr_street          1180 non-null   object \n",
      " 5   amenity              1180 non-null   object \n",
      " 6   changeset_id         1180 non-null   int64  \n",
      " 7   changeset_timestamp  1180 non-null   object \n",
      " 8   changeset_user       1180 non-null   object \n",
      " 9   changeset_version    1180 non-null   int64  \n",
      " 10  completeness         1180 non-null   int64  \n",
      " 11  dispensing           1180 non-null   object \n",
      " 12  osm_id               1180 non-null   int64  \n",
      " 13  osm_type             1180 non-null   object \n",
      " 14  uuid                 1180 non-null   object \n",
      " 15  Unnamed: 15          0 non-null      float64\n",
      "dtypes: float64(3), int64(4), object(9)\n",
      "memory usage: 147.6+ KB\n"
     ]
    }
   ],
   "source": [
    "df.info()"
   ]
  },
  {
   "cell_type": "code",
   "execution_count": 55,
   "metadata": {},
   "outputs": [
    {
     "data": {
      "text/html": [
       "<div>\n",
       "<style scoped>\n",
       "    .dataframe tbody tr th:only-of-type {\n",
       "        vertical-align: middle;\n",
       "    }\n",
       "\n",
       "    .dataframe tbody tr th {\n",
       "        vertical-align: top;\n",
       "    }\n",
       "\n",
       "    .dataframe thead th {\n",
       "        text-align: right;\n",
       "    }\n",
       "</style>\n",
       "<table border=\"1\" class=\"dataframe\">\n",
       "  <thead>\n",
       "    <tr style=\"text-align: right;\">\n",
       "      <th></th>\n",
       "      <th>X</th>\n",
       "      <th>Y</th>\n",
       "      <th>changeset_id</th>\n",
       "      <th>changeset_version</th>\n",
       "      <th>completeness</th>\n",
       "      <th>osm_id</th>\n",
       "      <th>Unnamed: 15</th>\n",
       "    </tr>\n",
       "  </thead>\n",
       "  <tbody>\n",
       "    <tr>\n",
       "      <th>count</th>\n",
       "      <td>1180.000000</td>\n",
       "      <td>1180.000000</td>\n",
       "      <td>1.180000e+03</td>\n",
       "      <td>1180.000000</td>\n",
       "      <td>1180.000000</td>\n",
       "      <td>1.180000e+03</td>\n",
       "      <td>0.0</td>\n",
       "    </tr>\n",
       "    <tr>\n",
       "      <th>mean</th>\n",
       "      <td>31.775855</td>\n",
       "      <td>15.186397</td>\n",
       "      <td>9.132590e+06</td>\n",
       "      <td>0.180508</td>\n",
       "      <td>1.436441</td>\n",
       "      <td>6.434055e+09</td>\n",
       "      <td>NaN</td>\n",
       "    </tr>\n",
       "    <tr>\n",
       "      <th>std</th>\n",
       "      <td>4.785858</td>\n",
       "      <td>2.337769</td>\n",
       "      <td>2.545192e+07</td>\n",
       "      <td>0.562129</td>\n",
       "      <td>4.111490</td>\n",
       "      <td>1.582652e+09</td>\n",
       "      <td>NaN</td>\n",
       "    </tr>\n",
       "    <tr>\n",
       "      <th>min</th>\n",
       "      <td>0.000000</td>\n",
       "      <td>0.000000</td>\n",
       "      <td>0.000000e+00</td>\n",
       "      <td>0.000000</td>\n",
       "      <td>0.000000</td>\n",
       "      <td>4.922450e+07</td>\n",
       "      <td>NaN</td>\n",
       "    </tr>\n",
       "    <tr>\n",
       "      <th>25%</th>\n",
       "      <td>32.485813</td>\n",
       "      <td>15.534281</td>\n",
       "      <td>0.000000e+00</td>\n",
       "      <td>0.000000</td>\n",
       "      <td>0.000000</td>\n",
       "      <td>6.055029e+09</td>\n",
       "      <td>NaN</td>\n",
       "    </tr>\n",
       "    <tr>\n",
       "      <th>50%</th>\n",
       "      <td>32.531007</td>\n",
       "      <td>15.597713</td>\n",
       "      <td>0.000000e+00</td>\n",
       "      <td>0.000000</td>\n",
       "      <td>0.000000</td>\n",
       "      <td>6.953330e+09</td>\n",
       "      <td>NaN</td>\n",
       "    </tr>\n",
       "    <tr>\n",
       "      <th>75%</th>\n",
       "      <td>32.570649</td>\n",
       "      <td>15.641503</td>\n",
       "      <td>0.000000e+00</td>\n",
       "      <td>0.000000</td>\n",
       "      <td>0.000000</td>\n",
       "      <td>7.154078e+09</td>\n",
       "      <td>NaN</td>\n",
       "    </tr>\n",
       "    <tr>\n",
       "      <th>max</th>\n",
       "      <td>37.217447</td>\n",
       "      <td>20.748716</td>\n",
       "      <td>1.110008e+08</td>\n",
       "      <td>6.000000</td>\n",
       "      <td>24.000000</td>\n",
       "      <td>1.200026e+10</td>\n",
       "      <td>NaN</td>\n",
       "    </tr>\n",
       "  </tbody>\n",
       "</table>\n",
       "</div>"
      ],
      "text/plain": [
       "                 X            Y  changeset_id  changeset_version  \\\n",
       "count  1180.000000  1180.000000  1.180000e+03        1180.000000   \n",
       "mean     31.775855    15.186397  9.132590e+06           0.180508   \n",
       "std       4.785858     2.337769  2.545192e+07           0.562129   \n",
       "min       0.000000     0.000000  0.000000e+00           0.000000   \n",
       "25%      32.485813    15.534281  0.000000e+00           0.000000   \n",
       "50%      32.531007    15.597713  0.000000e+00           0.000000   \n",
       "75%      32.570649    15.641503  0.000000e+00           0.000000   \n",
       "max      37.217447    20.748716  1.110008e+08           6.000000   \n",
       "\n",
       "       completeness        osm_id  Unnamed: 15  \n",
       "count   1180.000000  1.180000e+03          0.0  \n",
       "mean       1.436441  6.434055e+09          NaN  \n",
       "std        4.111490  1.582652e+09          NaN  \n",
       "min        0.000000  4.922450e+07          NaN  \n",
       "25%        0.000000  6.055029e+09          NaN  \n",
       "50%        0.000000  6.953330e+09          NaN  \n",
       "75%        0.000000  7.154078e+09          NaN  \n",
       "max       24.000000  1.200026e+10          NaN  "
      ]
     },
     "execution_count": 55,
     "metadata": {},
     "output_type": "execute_result"
    }
   ],
   "source": [
    "df.describe()"
   ]
  },
  {
   "cell_type": "markdown",
   "metadata": {},
   "source": [
    "##### Will delete all dummy column "
   ]
  },
  {
   "cell_type": "code",
   "execution_count": 56,
   "metadata": {},
   "outputs": [],
   "source": [
    "df.drop(['addr_city' , 'addr_street' , 'Unnamed: 15' ,'changeset_id','changeset_timestamp',\t'changeset_user','changeset_version','completeness','dispensing' , 'uuid'] , axis=1 , inplace=True)"
   ]
  },
  {
   "cell_type": "code",
   "execution_count": 57,
   "metadata": {},
   "outputs": [
    {
     "data": {
      "text/html": [
       "<div>\n",
       "<style scoped>\n",
       "    .dataframe tbody tr th:only-of-type {\n",
       "        vertical-align: middle;\n",
       "    }\n",
       "\n",
       "    .dataframe tbody tr th {\n",
       "        vertical-align: top;\n",
       "    }\n",
       "\n",
       "    .dataframe thead th {\n",
       "        text-align: right;\n",
       "    }\n",
       "</style>\n",
       "<table border=\"1\" class=\"dataframe\">\n",
       "  <thead>\n",
       "    <tr style=\"text-align: right;\">\n",
       "      <th></th>\n",
       "      <th>Name</th>\n",
       "      <th>X</th>\n",
       "      <th>Y</th>\n",
       "      <th>amenity</th>\n",
       "      <th>osm_id</th>\n",
       "      <th>osm_type</th>\n",
       "    </tr>\n",
       "  </thead>\n",
       "  <tbody>\n",
       "    <tr>\n",
       "      <th>0</th>\n",
       "      <td>0</td>\n",
       "      <td>32.536015</td>\n",
       "      <td>15.632537</td>\n",
       "      <td>pharmacy</td>\n",
       "      <td>5691668660</td>\n",
       "      <td>node</td>\n",
       "    </tr>\n",
       "    <tr>\n",
       "      <th>1</th>\n",
       "      <td>0</td>\n",
       "      <td>0.000000</td>\n",
       "      <td>0.000000</td>\n",
       "      <td>hospital</td>\n",
       "      <td>786505555</td>\n",
       "      <td>way</td>\n",
       "    </tr>\n",
       "    <tr>\n",
       "      <th>2</th>\n",
       "      <td>0</td>\n",
       "      <td>32.533961</td>\n",
       "      <td>15.528663</td>\n",
       "      <td>pharmacy</td>\n",
       "      <td>3490668393</td>\n",
       "      <td>node</td>\n",
       "    </tr>\n",
       "    <tr>\n",
       "      <th>3</th>\n",
       "      <td>Wad Musa Pharmacy</td>\n",
       "      <td>32.441141</td>\n",
       "      <td>15.683439</td>\n",
       "      <td>pharmacy</td>\n",
       "      <td>7834704444</td>\n",
       "      <td>node</td>\n",
       "    </tr>\n",
       "    <tr>\n",
       "      <th>4</th>\n",
       "      <td>0</td>\n",
       "      <td>0.000000</td>\n",
       "      <td>0.000000</td>\n",
       "      <td>hospital</td>\n",
       "      <td>614753021</td>\n",
       "      <td>way</td>\n",
       "    </tr>\n",
       "  </tbody>\n",
       "</table>\n",
       "</div>"
      ],
      "text/plain": [
       "                Name          X          Y   amenity      osm_id osm_type\n",
       "0                  0  32.536015  15.632537  pharmacy  5691668660     node\n",
       "1                  0   0.000000   0.000000  hospital   786505555      way\n",
       "2                  0  32.533961  15.528663  pharmacy  3490668393     node\n",
       "3  Wad Musa Pharmacy  32.441141  15.683439  pharmacy  7834704444     node\n",
       "4                  0   0.000000   0.000000  hospital   614753021      way"
      ]
     },
     "execution_count": 57,
     "metadata": {},
     "output_type": "execute_result"
    }
   ],
   "source": [
    "df.head()"
   ]
  },
  {
   "cell_type": "markdown",
   "metadata": {},
   "source": [
    "##### Will delete all unknown place "
   ]
  },
  {
   "cell_type": "code",
   "execution_count": 58,
   "metadata": {},
   "outputs": [],
   "source": [
    "df = df[df['Name'] != '0']"
   ]
  },
  {
   "cell_type": "code",
   "execution_count": 59,
   "metadata": {},
   "outputs": [
    {
     "data": {
      "text/html": [
       "<div>\n",
       "<style scoped>\n",
       "    .dataframe tbody tr th:only-of-type {\n",
       "        vertical-align: middle;\n",
       "    }\n",
       "\n",
       "    .dataframe tbody tr th {\n",
       "        vertical-align: top;\n",
       "    }\n",
       "\n",
       "    .dataframe thead th {\n",
       "        text-align: right;\n",
       "    }\n",
       "</style>\n",
       "<table border=\"1\" class=\"dataframe\">\n",
       "  <thead>\n",
       "    <tr style=\"text-align: right;\">\n",
       "      <th></th>\n",
       "      <th>Name</th>\n",
       "      <th>X</th>\n",
       "      <th>Y</th>\n",
       "      <th>amenity</th>\n",
       "      <th>osm_id</th>\n",
       "      <th>osm_type</th>\n",
       "    </tr>\n",
       "  </thead>\n",
       "  <tbody>\n",
       "    <tr>\n",
       "      <th>3</th>\n",
       "      <td>Wad Musa Pharmacy</td>\n",
       "      <td>32.441141</td>\n",
       "      <td>15.683439</td>\n",
       "      <td>pharmacy</td>\n",
       "      <td>7834704444</td>\n",
       "      <td>node</td>\n",
       "    </tr>\n",
       "    <tr>\n",
       "      <th>5</th>\n",
       "      <td>Ombada Model Hospital</td>\n",
       "      <td>32.419073</td>\n",
       "      <td>15.663948</td>\n",
       "      <td>hospital</td>\n",
       "      <td>7966428285</td>\n",
       "      <td>node</td>\n",
       "    </tr>\n",
       "    <tr>\n",
       "      <th>6</th>\n",
       "      <td>Tropical Medicine Hospital</td>\n",
       "      <td>32.493623</td>\n",
       "      <td>15.640279</td>\n",
       "      <td>hospital</td>\n",
       "      <td>8006766734</td>\n",
       "      <td>node</td>\n",
       "    </tr>\n",
       "    <tr>\n",
       "      <th>8</th>\n",
       "      <td>Al-Hagan Pharmacy</td>\n",
       "      <td>32.444681</td>\n",
       "      <td>15.612955</td>\n",
       "      <td>pharmacy</td>\n",
       "      <td>6801517152</td>\n",
       "      <td>node</td>\n",
       "    </tr>\n",
       "    <tr>\n",
       "      <th>10</th>\n",
       "      <td>Eye Hospital</td>\n",
       "      <td>32.545318</td>\n",
       "      <td>15.612304</td>\n",
       "      <td>hospital</td>\n",
       "      <td>7038742276</td>\n",
       "      <td>node</td>\n",
       "    </tr>\n",
       "    <tr>\n",
       "      <th>...</th>\n",
       "      <td>...</td>\n",
       "      <td>...</td>\n",
       "      <td>...</td>\n",
       "      <td>...</td>\n",
       "      <td>...</td>\n",
       "      <td>...</td>\n",
       "    </tr>\n",
       "    <tr>\n",
       "      <th>1174</th>\n",
       "      <td>Wad Al Bashir Pharmacy</td>\n",
       "      <td>32.460845</td>\n",
       "      <td>15.646339</td>\n",
       "      <td>pharmacy</td>\n",
       "      <td>6068904556</td>\n",
       "      <td>nodes</td>\n",
       "    </tr>\n",
       "    <tr>\n",
       "      <th>1175</th>\n",
       "      <td>Spring Wellness Pharmacy</td>\n",
       "      <td>32.621261</td>\n",
       "      <td>15.616220</td>\n",
       "      <td>pharmacy</td>\n",
       "      <td>6824534990</td>\n",
       "      <td>nodes</td>\n",
       "    </tr>\n",
       "    <tr>\n",
       "      <th>1176</th>\n",
       "      <td>Abu Arwa Pharmacy</td>\n",
       "      <td>32.611852</td>\n",
       "      <td>15.627639</td>\n",
       "      <td>pharmacy</td>\n",
       "      <td>6824687155</td>\n",
       "      <td>nodes</td>\n",
       "    </tr>\n",
       "    <tr>\n",
       "      <th>1177</th>\n",
       "      <td>Dr. Rahmi Pharmacy</td>\n",
       "      <td>32.495008</td>\n",
       "      <td>15.642253</td>\n",
       "      <td>pharmacy</td>\n",
       "      <td>8006760963</td>\n",
       "      <td>nodes</td>\n",
       "    </tr>\n",
       "    <tr>\n",
       "      <th>1179</th>\n",
       "      <td>Baqaa Dialysis Center</td>\n",
       "      <td>32.482415</td>\n",
       "      <td>15.641074</td>\n",
       "      <td>hospital</td>\n",
       "      <td>7245677450</td>\n",
       "      <td>nodes</td>\n",
       "    </tr>\n",
       "  </tbody>\n",
       "</table>\n",
       "<p>1109 rows × 6 columns</p>\n",
       "</div>"
      ],
      "text/plain": [
       "                            Name          X          Y   amenity      osm_id  \\\n",
       "3              Wad Musa Pharmacy  32.441141  15.683439  pharmacy  7834704444   \n",
       "5          Ombada Model Hospital  32.419073  15.663948  hospital  7966428285   \n",
       "6     Tropical Medicine Hospital  32.493623  15.640279  hospital  8006766734   \n",
       "8              Al-Hagan Pharmacy  32.444681  15.612955  pharmacy  6801517152   \n",
       "10                  Eye Hospital  32.545318  15.612304  hospital  7038742276   \n",
       "...                          ...        ...        ...       ...         ...   \n",
       "1174      Wad Al Bashir Pharmacy  32.460845  15.646339  pharmacy  6068904556   \n",
       "1175    Spring Wellness Pharmacy  32.621261  15.616220  pharmacy  6824534990   \n",
       "1176           Abu Arwa Pharmacy  32.611852  15.627639  pharmacy  6824687155   \n",
       "1177          Dr. Rahmi Pharmacy  32.495008  15.642253  pharmacy  8006760963   \n",
       "1179       Baqaa Dialysis Center  32.482415  15.641074  hospital  7245677450   \n",
       "\n",
       "     osm_type  \n",
       "3        node  \n",
       "5        node  \n",
       "6        node  \n",
       "8        node  \n",
       "10       node  \n",
       "...       ...  \n",
       "1174    nodes  \n",
       "1175    nodes  \n",
       "1176    nodes  \n",
       "1177    nodes  \n",
       "1179    nodes  \n",
       "\n",
       "[1109 rows x 6 columns]"
      ]
     },
     "execution_count": 59,
     "metadata": {},
     "output_type": "execute_result"
    }
   ],
   "source": [
    "df"
   ]
  },
  {
   "cell_type": "markdown",
   "metadata": {},
   "source": [
    "##### Will merge 'node' and 'nodes' to be one category "
   ]
  },
  {
   "cell_type": "code",
   "execution_count": 62,
   "metadata": {},
   "outputs": [
    {
     "name": "stderr",
     "output_type": "stream",
     "text": [
      "C:\\Users\\Sama Elshazly\\AppData\\Local\\Temp\\ipykernel_21448\\1825088087.py:1: FutureWarning: A value is trying to be set on a copy of a DataFrame or Series through chained assignment using an inplace method.\n",
      "The behavior will change in pandas 3.0. This inplace method will never work because the intermediate object on which we are setting values always behaves as a copy.\n",
      "\n",
      "For example, when doing 'df[col].method(value, inplace=True)', try using 'df.method({col: value}, inplace=True)' or df[col] = df[col].method(value) instead, to perform the operation inplace on the original object.\n",
      "\n",
      "\n",
      "  df['osm_type'].replace('nodes' , 'node' , inplace=True)\n"
     ]
    }
   ],
   "source": [
    "df['osm_type'].replace('nodes' , 'node' , inplace=True)"
   ]
  },
  {
   "cell_type": "code",
   "execution_count": 67,
   "metadata": {},
   "outputs": [],
   "source": [
    "count_type = df['osm_type'].value_counts()"
   ]
  },
  {
   "cell_type": "code",
   "execution_count": 71,
   "metadata": {},
   "outputs": [
    {
     "data": {
      "text/plain": [
       "Text(0.5, 1.0, 'Way VS node')"
      ]
     },
     "execution_count": 71,
     "metadata": {},
     "output_type": "execute_result"
    },
    {
     "data": {
      "image/png": "[encoded data removed]",
      "text/plain": [
       "<Figure size 640x480 with 1 Axes>"
      ]
     },
     "metadata": {},
     "output_type": "display_data"
    }
   ],
   "source": [
    "sns.barplot(data = count_type)\n",
    "plt.title('Way VS node')"
   ]
  },
  {
   "cell_type": "code",
   "execution_count": 73,
   "metadata": {},
   "outputs": [
    {
     "data": {
      "text/plain": [
       "<Axes: xlabel='amenity', ylabel='count'>"
      ]
     },
     "execution_count": 73,
     "metadata": {},
     "output_type": "execute_result"
    },
    {
     "data": {
      "image/png": "[encoded data removed]",
      "text/plain": [
       "<Figure size 640x480 with 1 Axes>"
      ]
     },
     "metadata": {},
     "output_type": "display_data"
    }
   ],
   "source": [
    "sns.barplot(data = df['amenity'].value_counts())"
   ]
  },
  {
   "cell_type": "code",
   "execution_count": 75,
   "metadata": {},
   "outputs": [
    {
     "data": {
      "text/html": [
       "<div>\n",
       "<style scoped>\n",
       "    .dataframe tbody tr th:only-of-type {\n",
       "        vertical-align: middle;\n",
       "    }\n",
       "\n",
       "    .dataframe tbody tr th {\n",
       "        vertical-align: top;\n",
       "    }\n",
       "\n",
       "    .dataframe thead th {\n",
       "        text-align: right;\n",
       "    }\n",
       "</style>\n",
       "<table border=\"1\" class=\"dataframe\">\n",
       "  <thead>\n",
       "    <tr style=\"text-align: right;\">\n",
       "      <th></th>\n",
       "      <th>Name</th>\n",
       "      <th>X</th>\n",
       "      <th>Y</th>\n",
       "      <th>amenity</th>\n",
       "      <th>osm_id</th>\n",
       "      <th>osm_type</th>\n",
       "    </tr>\n",
       "  </thead>\n",
       "  <tbody>\n",
       "    <tr>\n",
       "      <th>215</th>\n",
       "      <td>Medani Health Centre</td>\n",
       "      <td>33.500046</td>\n",
       "      <td>14.427580</td>\n",
       "      <td>0</td>\n",
       "      <td>7301850739</td>\n",
       "      <td>node</td>\n",
       "    </tr>\n",
       "    <tr>\n",
       "      <th>663</th>\n",
       "      <td>Total Lab Care Laboratories</td>\n",
       "      <td>32.563350</td>\n",
       "      <td>15.566572</td>\n",
       "      <td>0</td>\n",
       "      <td>6875522966</td>\n",
       "      <td>node</td>\n",
       "    </tr>\n",
       "    <tr>\n",
       "      <th>664</th>\n",
       "      <td>Safana Center for Physiotherapy and Rehabilita...</td>\n",
       "      <td>32.570552</td>\n",
       "      <td>15.577111</td>\n",
       "      <td>0</td>\n",
       "      <td>7905516322</td>\n",
       "      <td>node</td>\n",
       "    </tr>\n",
       "    <tr>\n",
       "      <th>795</th>\n",
       "      <td>Al Jazeera Optics</td>\n",
       "      <td>32.558869</td>\n",
       "      <td>15.546857</td>\n",
       "      <td>0</td>\n",
       "      <td>7904462758</td>\n",
       "      <td>node</td>\n",
       "    </tr>\n",
       "    <tr>\n",
       "      <th>952</th>\n",
       "      <td>Diseased tissues Prof. Ali Abdel Sattar</td>\n",
       "      <td>32.533732</td>\n",
       "      <td>15.599289</td>\n",
       "      <td>0</td>\n",
       "      <td>7038742275</td>\n",
       "      <td>node</td>\n",
       "    </tr>\n",
       "    <tr>\n",
       "      <th>953</th>\n",
       "      <td>Al Rayyan Specialized Laboratory</td>\n",
       "      <td>32.529401</td>\n",
       "      <td>15.599440</td>\n",
       "      <td>0</td>\n",
       "      <td>7904462759</td>\n",
       "      <td>node</td>\n",
       "    </tr>\n",
       "    <tr>\n",
       "      <th>1066</th>\n",
       "      <td>Al-Haramain Pharmacy</td>\n",
       "      <td>32.484762</td>\n",
       "      <td>15.480549</td>\n",
       "      <td>0</td>\n",
       "      <td>8018298465</td>\n",
       "      <td>node</td>\n",
       "    </tr>\n",
       "    <tr>\n",
       "      <th>1085</th>\n",
       "      <td>Mattia Optics</td>\n",
       "      <td>32.571616</td>\n",
       "      <td>15.604573</td>\n",
       "      <td>0</td>\n",
       "      <td>7904462757</td>\n",
       "      <td>node</td>\n",
       "    </tr>\n",
       "  </tbody>\n",
       "</table>\n",
       "</div>"
      ],
      "text/plain": [
       "                                                   Name          X          Y  \\\n",
       "215                                Medani Health Centre  33.500046  14.427580   \n",
       "663                         Total Lab Care Laboratories  32.563350  15.566572   \n",
       "664   Safana Center for Physiotherapy and Rehabilita...  32.570552  15.577111   \n",
       "795                                   Al Jazeera Optics  32.558869  15.546857   \n",
       "952             Diseased tissues Prof. Ali Abdel Sattar  32.533732  15.599289   \n",
       "953                    Al Rayyan Specialized Laboratory  32.529401  15.599440   \n",
       "1066                               Al-Haramain Pharmacy  32.484762  15.480549   \n",
       "1085                                      Mattia Optics  32.571616  15.604573   \n",
       "\n",
       "     amenity      osm_id osm_type  \n",
       "215        0  7301850739     node  \n",
       "663        0  6875522966     node  \n",
       "664        0  7905516322     node  \n",
       "795        0  7904462758     node  \n",
       "952        0  7038742275     node  \n",
       "953        0  7904462759     node  \n",
       "1066       0  8018298465     node  \n",
       "1085       0  7904462757     node  "
      ]
     },
     "execution_count": 75,
     "metadata": {},
     "output_type": "execute_result"
    }
   ],
   "source": [
    "df[df['amenity']=='0']"
   ]
  },
  {
   "cell_type": "markdown",
   "metadata": {},
   "source": [
    "##### Will drop the (0 , 0) point"
   ]
  },
  {
   "cell_type": "code",
   "execution_count": null,
   "metadata": {},
   "outputs": [],
   "source": [
    "df = df[df['X'] != 0]"
   ]
  },
  {
   "cell_type": "markdown",
   "metadata": {},
   "source": [
    "##### We will replace the unknown amenity with 'Other' word"
   ]
  },
  {
   "cell_type": "code",
   "execution_count": 81,
   "metadata": {},
   "outputs": [
    {
     "name": "stderr",
     "output_type": "stream",
     "text": [
      "C:\\Users\\Sama Elshazly\\AppData\\Local\\Temp\\ipykernel_21448\\809446212.py:1: SettingWithCopyWarning: \n",
      "A value is trying to be set on a copy of a slice from a DataFrame\n",
      "\n",
      "See the caveats in the documentation: https://pandas.pydata.org/pandas-docs/stable/user_guide/indexing.html#returning-a-view-versus-a-copy\n",
      "  df['amenity'].replace('0' , 'Other' , inplace=True)\n"
     ]
    }
   ],
   "source": [
    "df['amenity'].replace('0' , 'Other' , inplace=True)"
   ]
  },
  {
   "cell_type": "code",
   "execution_count": 82,
   "metadata": {},
   "outputs": [
    {
     "data": {
      "image/png": "[encoded data removed]",
      "text/plain": [
       "<Figure size 640x480 with 1 Axes>"
      ]
     },
     "metadata": {},
     "output_type": "display_data"
    }
   ],
   "source": [
    "sns.scatterplot(x=df['X'], y=df['Y'], hue=df['amenity'])\n",
    "plt.show()"
   ]
  },
  {
   "cell_type": "code",
   "execution_count": 90,
   "metadata": {},
   "outputs": [
    {
     "name": "stderr",
     "output_type": "stream",
     "text": [
      "C:\\Users\\Sama Elshazly\\AppData\\Local\\Temp\\ipykernel_21448\\859275977.py:5: FutureWarning: \n",
      "\n",
      "`shade` is now deprecated in favor of `fill`; setting `fill=True`.\n",
      "This will become an error in seaborn v0.14.0; please update your code.\n",
      "\n",
      "  sns.kdeplot(\n",
      "C:\\Users\\Sama Elshazly\\AppData\\Local\\Temp\\ipykernel_21448\\859275977.py:5: FutureWarning: \n",
      "\n",
      "`shade` is now deprecated in favor of `fill`; setting `fill=True`.\n",
      "This will become an error in seaborn v0.14.0; please update your code.\n",
      "\n",
      "  sns.kdeplot(\n",
      "C:\\Users\\Sama Elshazly\\AppData\\Local\\Temp\\ipykernel_21448\\859275977.py:5: FutureWarning: \n",
      "\n",
      "`shade` is now deprecated in favor of `fill`; setting `fill=True`.\n",
      "This will become an error in seaborn v0.14.0; please update your code.\n",
      "\n",
      "  sns.kdeplot(\n",
      "C:\\Users\\Sama Elshazly\\AppData\\Local\\Temp\\ipykernel_21448\\859275977.py:5: FutureWarning: \n",
      "\n",
      "`shade` is now deprecated in favor of `fill`; setting `fill=True`.\n",
      "This will become an error in seaborn v0.14.0; please update your code.\n",
      "\n",
      "  sns.kdeplot(\n",
      "C:\\Users\\Sama Elshazly\\AppData\\Local\\Temp\\ipykernel_21448\\859275977.py:5: FutureWarning: \n",
      "\n",
      "`shade` is now deprecated in favor of `fill`; setting `fill=True`.\n",
      "This will become an error in seaborn v0.14.0; please update your code.\n",
      "\n",
      "  sns.kdeplot(\n",
      "C:\\Users\\Sama Elshazly\\AppData\\Local\\Temp\\ipykernel_21448\\859275977.py:5: FutureWarning: \n",
      "\n",
      "`shade` is now deprecated in favor of `fill`; setting `fill=True`.\n",
      "This will become an error in seaborn v0.14.0; please update your code.\n",
      "\n",
      "  sns.kdeplot(\n",
      "C:\\Users\\Sama Elshazly\\AppData\\Local\\Temp\\ipykernel_21448\\859275977.py:17: UserWarning: No artists with labels found to put in legend.  Note that artists whose label start with an underscore are ignored when legend() is called with no argument.\n",
      "  plt.legend(title=\"Amenity\")\n"
     ]
    },
    {
     "data": {
      "image/png": "[encoded data removed]",
      "text/plain": [
       "<Figure size 1200x800 with 1 Axes>"
      ]
     },
     "metadata": {},
     "output_type": "display_data"
    }
   ],
   "source": [
    "plt.figure(figsize=(12, 8))\n",
    "\n",
    "# Plot density for each amenity\n",
    "for amenity in df['amenity'].unique():\n",
    "    sns.kdeplot(\n",
    "        x=df[df['amenity'] == amenity]['X'], \n",
    "        y=df[df['amenity'] == amenity]['Y'], \n",
    "        cmap=\"coolwarm\",\n",
    "        shade=True, \n",
    "        alpha=0.5, \n",
    "        label=amenity\n",
    "    )\n",
    "\n",
    "plt.title(\"Density of Amenities\", fontsize=16)\n",
    "plt.xlabel(\"Longitude (X)\", fontsize=12)\n",
    "plt.ylabel(\"Latitude (Y)\", fontsize=12)\n",
    "plt.legend(title=\"Amenity\")\n",
    "plt.show()\n"
   ]
  }
 ],
 "metadata": {
  "kernelspec": {
   "display_name": "Python 3",
   "language": "python",
   "name": "python3"
  },
  "language_info": {
   "codemirror_mode": {
    "name": "ipython",
    "version": 3
   },
   "file_extension": ".py",
   "mimetype": "text/x-python",
   "name": "python",
   "nbconvert_exporter": "python",
   "pygments_lexer": "ipython3",
   "version": "3.9.6"
  }
 },
 "nbformat": 4,
 "nbformat_minor": 2
}
