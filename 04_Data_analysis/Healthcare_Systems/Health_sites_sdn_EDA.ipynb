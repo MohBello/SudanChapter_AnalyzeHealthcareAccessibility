{
 "cells": [
  {
   "cell_type": "code",
   "execution_count": 2,
   "id": "24cac960",
   "metadata": {},
   "outputs": [],
   "source": [
    "#import necessary libraries\n",
    "import pandas as pd\n",
    "import numpy as np"
   ]
  },
  {
   "cell_type": "code",
   "execution_count": 3,
   "id": "6d9004c2",
   "metadata": {},
   "outputs": [
    {
     "data": {
      "text/html": [
       "<div>\n",
       "<style scoped>\n",
       "    .dataframe tbody tr th:only-of-type {\n",
       "        vertical-align: middle;\n",
       "    }\n",
       "\n",
       "    .dataframe tbody tr th {\n",
       "        vertical-align: top;\n",
       "    }\n",
       "\n",
       "    .dataframe thead th {\n",
       "        text-align: right;\n",
       "    }\n",
       "</style>\n",
       "<table border=\"1\" class=\"dataframe\">\n",
       "  <thead>\n",
       "    <tr style=\"text-align: right;\">\n",
       "      <th></th>\n",
       "      <th>Name</th>\n",
       "      <th>X</th>\n",
       "      <th>Y</th>\n",
       "      <th>addr_city</th>\n",
       "      <th>addr_street</th>\n",
       "      <th>amenity</th>\n",
       "      <th>changeset_id</th>\n",
       "      <th>changeset_timestamp</th>\n",
       "      <th>changeset_user</th>\n",
       "      <th>changeset_version</th>\n",
       "      <th>completeness</th>\n",
       "      <th>dispensing</th>\n",
       "      <th>osm_id</th>\n",
       "      <th>osm_type</th>\n",
       "      <th>uuid</th>\n",
       "      <th>Unnamed: 15</th>\n",
       "    </tr>\n",
       "  </thead>\n",
       "  <tbody>\n",
       "    <tr>\n",
       "      <th>0</th>\n",
       "      <td>0</td>\n",
       "      <td>32.536015</td>\n",
       "      <td>15.632537</td>\n",
       "      <td>0</td>\n",
       "      <td>0</td>\n",
       "      <td>pharmacy</td>\n",
       "      <td>59859075</td>\n",
       "      <td>2018-06-14 20:48:56</td>\n",
       "      <td>allasafieldin</td>\n",
       "      <td>1</td>\n",
       "      <td>12</td>\n",
       "      <td>yes</td>\n",
       "      <td>5691668660</td>\n",
       "      <td>node</td>\n",
       "      <td>62a1f69b5e464b3a831724e7e633b9f7</td>\n",
       "      <td>NaN</td>\n",
       "    </tr>\n",
       "    <tr>\n",
       "      <th>1</th>\n",
       "      <td>0</td>\n",
       "      <td>0.000000</td>\n",
       "      <td>0.000000</td>\n",
       "      <td>0</td>\n",
       "      <td>0</td>\n",
       "      <td>hospital</td>\n",
       "      <td>82920351</td>\n",
       "      <td>2020-04-01 11:29:56</td>\n",
       "      <td>AARod</td>\n",
       "      <td>1</td>\n",
       "      <td>9</td>\n",
       "      <td>0</td>\n",
       "      <td>786505555</td>\n",
       "      <td>way</td>\n",
       "      <td>6bed7ba76fdc43f2a959908df295b6c8</td>\n",
       "      <td>NaN</td>\n",
       "    </tr>\n",
       "    <tr>\n",
       "      <th>2</th>\n",
       "      <td>0</td>\n",
       "      <td>32.533961</td>\n",
       "      <td>15.528663</td>\n",
       "      <td>0</td>\n",
       "      <td>0</td>\n",
       "      <td>pharmacy</td>\n",
       "      <td>30685807</td>\n",
       "      <td>2015-05-01 09:28:35</td>\n",
       "      <td>AhmedSDN</td>\n",
       "      <td>1</td>\n",
       "      <td>6</td>\n",
       "      <td>0</td>\n",
       "      <td>3490668393</td>\n",
       "      <td>node</td>\n",
       "      <td>516a03ec3daf43e68f01ca8c8564d169</td>\n",
       "      <td>NaN</td>\n",
       "    </tr>\n",
       "    <tr>\n",
       "      <th>3</th>\n",
       "      <td>Wad Musa Pharmacy</td>\n",
       "      <td>32.441141</td>\n",
       "      <td>15.683439</td>\n",
       "      <td>0</td>\n",
       "      <td>0</td>\n",
       "      <td>pharmacy</td>\n",
       "      <td>89779217</td>\n",
       "      <td>2020-08-22 12:03:41</td>\n",
       "      <td>ImadJ</td>\n",
       "      <td>1</td>\n",
       "      <td>15</td>\n",
       "      <td>yes</td>\n",
       "      <td>7834704444</td>\n",
       "      <td>node</td>\n",
       "      <td>77c5b490089945198e0cfa5b45bd5c6b</td>\n",
       "      <td>NaN</td>\n",
       "    </tr>\n",
       "    <tr>\n",
       "      <th>4</th>\n",
       "      <td>0</td>\n",
       "      <td>0.000000</td>\n",
       "      <td>0.000000</td>\n",
       "      <td>0</td>\n",
       "      <td>0</td>\n",
       "      <td>hospital</td>\n",
       "      <td>61428897</td>\n",
       "      <td>2018-08-07 09:45:25</td>\n",
       "      <td>ali-hasboo</td>\n",
       "      <td>1</td>\n",
       "      <td>12</td>\n",
       "      <td>0</td>\n",
       "      <td>614753021</td>\n",
       "      <td>way</td>\n",
       "      <td>5888223145234835bd0211b5475c0469</td>\n",
       "      <td>NaN</td>\n",
       "    </tr>\n",
       "  </tbody>\n",
       "</table>\n",
       "</div>"
      ],
      "text/plain": [
       "                Name          X          Y addr_city addr_street   amenity  \\\n",
       "0                  0  32.536015  15.632537         0           0  pharmacy   \n",
       "1                  0   0.000000   0.000000         0           0  hospital   \n",
       "2                  0  32.533961  15.528663         0           0  pharmacy   \n",
       "3  Wad Musa Pharmacy  32.441141  15.683439         0           0  pharmacy   \n",
       "4                  0   0.000000   0.000000         0           0  hospital   \n",
       "\n",
       "   changeset_id  changeset_timestamp changeset_user  changeset_version  \\\n",
       "0      59859075  2018-06-14 20:48:56  allasafieldin                  1   \n",
       "1      82920351  2020-04-01 11:29:56          AARod                  1   \n",
       "2      30685807  2015-05-01 09:28:35       AhmedSDN                  1   \n",
       "3      89779217  2020-08-22 12:03:41          ImadJ                  1   \n",
       "4      61428897  2018-08-07 09:45:25     ali-hasboo                  1   \n",
       "\n",
       "   completeness dispensing      osm_id osm_type  \\\n",
       "0            12        yes  5691668660     node   \n",
       "1             9          0   786505555      way   \n",
       "2             6          0  3490668393     node   \n",
       "3            15        yes  7834704444     node   \n",
       "4            12          0   614753021      way   \n",
       "\n",
       "                               uuid  Unnamed: 15  \n",
       "0  62a1f69b5e464b3a831724e7e633b9f7          NaN  \n",
       "1  6bed7ba76fdc43f2a959908df295b6c8          NaN  \n",
       "2  516a03ec3daf43e68f01ca8c8564d169          NaN  \n",
       "3  77c5b490089945198e0cfa5b45bd5c6b          NaN  \n",
       "4  5888223145234835bd0211b5475c0469          NaN  "
      ]
     },
     "execution_count": 3,
     "metadata": {},
     "output_type": "execute_result"
    }
   ],
   "source": [
    "#load the dataset\n",
    "\n",
    "df=pd.read_csv(\"C:/Users/manag/Sudan Chapter/health_sites_sdn.csv\")\n",
    "df.head()"
   ]
  },
  {
   "cell_type": "code",
   "execution_count": 4,
   "id": "f21e44ee",
   "metadata": {},
   "outputs": [
    {
     "name": "stdout",
     "output_type": "stream",
     "text": [
      "\n",
      "Number of rows: 1180\n",
      "\n",
      "Number of columns: 16 \n",
      "\n"
     ]
    }
   ],
   "source": [
    "#identify the number of rows and columns\n",
    "rows = len(df.axes[0])\n",
    "print(\"\\nNumber of rows:\",rows)\n",
    "\n",
    "columns = len(df.axes[1])\n",
    "print(\"\\nNumber of columns:\",columns,\"\\n\")"
   ]
  },
  {
   "cell_type": "code",
   "execution_count": 5,
   "id": "565693ae",
   "metadata": {},
   "outputs": [
    {
     "name": "stdout",
     "output_type": "stream",
     "text": [
      "<class 'pandas.core.frame.DataFrame'>\n",
      "RangeIndex: 1180 entries, 0 to 1179\n",
      "Data columns (total 16 columns):\n",
      " #   Column               Non-Null Count  Dtype  \n",
      "---  ------               --------------  -----  \n",
      " 0   Name                 1180 non-null   object \n",
      " 1   X                    1180 non-null   float64\n",
      " 2   Y                    1180 non-null   float64\n",
      " 3   addr_city            1180 non-null   object \n",
      " 4   addr_street          1180 non-null   object \n",
      " 5   amenity              1180 non-null   object \n",
      " 6   changeset_id         1180 non-null   int64  \n",
      " 7   changeset_timestamp  1180 non-null   object \n",
      " 8   changeset_user       1180 non-null   object \n",
      " 9   changeset_version    1180 non-null   int64  \n",
      " 10  completeness         1180 non-null   int64  \n",
      " 11  dispensing           1180 non-null   object \n",
      " 12  osm_id               1180 non-null   int64  \n",
      " 13  osm_type             1180 non-null   object \n",
      " 14  uuid                 1180 non-null   object \n",
      " 15  Unnamed: 15          0 non-null      float64\n",
      "dtypes: float64(3), int64(4), object(9)\n",
      "memory usage: 147.6+ KB\n"
     ]
    }
   ],
   "source": [
    "#Summary of the dataset\n",
    "df.info()"
   ]
  },
  {
   "cell_type": "code",
   "execution_count": 6,
   "id": "8ecbb9cc",
   "metadata": {},
   "outputs": [
    {
     "data": {
      "text/html": [
       "<div>\n",
       "<style scoped>\n",
       "    .dataframe tbody tr th:only-of-type {\n",
       "        vertical-align: middle;\n",
       "    }\n",
       "\n",
       "    .dataframe tbody tr th {\n",
       "        vertical-align: top;\n",
       "    }\n",
       "\n",
       "    .dataframe thead th {\n",
       "        text-align: right;\n",
       "    }\n",
       "</style>\n",
       "<table border=\"1\" class=\"dataframe\">\n",
       "  <thead>\n",
       "    <tr style=\"text-align: right;\">\n",
       "      <th></th>\n",
       "      <th>X</th>\n",
       "      <th>Y</th>\n",
       "      <th>changeset_id</th>\n",
       "      <th>changeset_version</th>\n",
       "      <th>completeness</th>\n",
       "      <th>osm_id</th>\n",
       "      <th>Unnamed: 15</th>\n",
       "    </tr>\n",
       "  </thead>\n",
       "  <tbody>\n",
       "    <tr>\n",
       "      <th>count</th>\n",
       "      <td>1180.000000</td>\n",
       "      <td>1180.000000</td>\n",
       "      <td>1.180000e+03</td>\n",
       "      <td>1180.000000</td>\n",
       "      <td>1180.000000</td>\n",
       "      <td>1.180000e+03</td>\n",
       "      <td>0.0</td>\n",
       "    </tr>\n",
       "    <tr>\n",
       "      <th>mean</th>\n",
       "      <td>31.775855</td>\n",
       "      <td>15.186397</td>\n",
       "      <td>9.132590e+06</td>\n",
       "      <td>0.180508</td>\n",
       "      <td>1.436441</td>\n",
       "      <td>6.434055e+09</td>\n",
       "      <td>NaN</td>\n",
       "    </tr>\n",
       "    <tr>\n",
       "      <th>std</th>\n",
       "      <td>4.785858</td>\n",
       "      <td>2.337769</td>\n",
       "      <td>2.545192e+07</td>\n",
       "      <td>0.562129</td>\n",
       "      <td>4.111490</td>\n",
       "      <td>1.582652e+09</td>\n",
       "      <td>NaN</td>\n",
       "    </tr>\n",
       "    <tr>\n",
       "      <th>min</th>\n",
       "      <td>0.000000</td>\n",
       "      <td>0.000000</td>\n",
       "      <td>0.000000e+00</td>\n",
       "      <td>0.000000</td>\n",
       "      <td>0.000000</td>\n",
       "      <td>4.922450e+07</td>\n",
       "      <td>NaN</td>\n",
       "    </tr>\n",
       "    <tr>\n",
       "      <th>25%</th>\n",
       "      <td>32.485813</td>\n",
       "      <td>15.534281</td>\n",
       "      <td>0.000000e+00</td>\n",
       "      <td>0.000000</td>\n",
       "      <td>0.000000</td>\n",
       "      <td>6.055029e+09</td>\n",
       "      <td>NaN</td>\n",
       "    </tr>\n",
       "    <tr>\n",
       "      <th>50%</th>\n",
       "      <td>32.531007</td>\n",
       "      <td>15.597713</td>\n",
       "      <td>0.000000e+00</td>\n",
       "      <td>0.000000</td>\n",
       "      <td>0.000000</td>\n",
       "      <td>6.953330e+09</td>\n",
       "      <td>NaN</td>\n",
       "    </tr>\n",
       "    <tr>\n",
       "      <th>75%</th>\n",
       "      <td>32.570649</td>\n",
       "      <td>15.641503</td>\n",
       "      <td>0.000000e+00</td>\n",
       "      <td>0.000000</td>\n",
       "      <td>0.000000</td>\n",
       "      <td>7.154078e+09</td>\n",
       "      <td>NaN</td>\n",
       "    </tr>\n",
       "    <tr>\n",
       "      <th>max</th>\n",
       "      <td>37.217447</td>\n",
       "      <td>20.748716</td>\n",
       "      <td>1.110008e+08</td>\n",
       "      <td>6.000000</td>\n",
       "      <td>24.000000</td>\n",
       "      <td>1.200026e+10</td>\n",
       "      <td>NaN</td>\n",
       "    </tr>\n",
       "  </tbody>\n",
       "</table>\n",
       "</div>"
      ],
      "text/plain": [
       "                 X            Y  changeset_id  changeset_version  \\\n",
       "count  1180.000000  1180.000000  1.180000e+03        1180.000000   \n",
       "mean     31.775855    15.186397  9.132590e+06           0.180508   \n",
       "std       4.785858     2.337769  2.545192e+07           0.562129   \n",
       "min       0.000000     0.000000  0.000000e+00           0.000000   \n",
       "25%      32.485813    15.534281  0.000000e+00           0.000000   \n",
       "50%      32.531007    15.597713  0.000000e+00           0.000000   \n",
       "75%      32.570649    15.641503  0.000000e+00           0.000000   \n",
       "max      37.217447    20.748716  1.110008e+08           6.000000   \n",
       "\n",
       "       completeness        osm_id  Unnamed: 15  \n",
       "count   1180.000000  1.180000e+03          0.0  \n",
       "mean       1.436441  6.434055e+09          NaN  \n",
       "std        4.111490  1.582652e+09          NaN  \n",
       "min        0.000000  4.922450e+07          NaN  \n",
       "25%        0.000000  6.055029e+09          NaN  \n",
       "50%        0.000000  6.953330e+09          NaN  \n",
       "75%        0.000000  7.154078e+09          NaN  \n",
       "max       24.000000  1.200026e+10          NaN  "
      ]
     },
     "execution_count": 6,
     "metadata": {},
     "output_type": "execute_result"
    }
   ],
   "source": [
    "#Basic statiscal measures\n",
    "df.describe()"
   ]
  },
  {
   "cell_type": "code",
   "execution_count": 7,
   "id": "6c8a60de",
   "metadata": {},
   "outputs": [],
   "source": [
    "#handle unnecessary columns\n",
    "df = df.drop([\"Unnamed: 15\", \"addr_city\",  \"addr_street\",\"changeset_id\", \"changeset_timestamp\", \"changeset_user\", \"changeset_version\"], axis =1)"
   ]
  },
  {
   "cell_type": "code",
   "execution_count": 8,
   "id": "0b711586",
   "metadata": {},
   "outputs": [],
   "source": [
    "#handle data in 'Name' that does not have an entry\n",
    "df = df[df['Name'] != '0']"
   ]
  },
  {
   "cell_type": "code",
   "execution_count": 12,
   "id": "932da831",
   "metadata": {},
   "outputs": [
    {
     "data": {
      "text/plain": [
       "amenity\n",
       "pharmacy    893\n",
       "hospital     86\n",
       "clinic       86\n",
       "dentist      21\n",
       "doctors      15\n",
       "0             8\n",
       "Name: count, dtype: int64"
      ]
     },
     "execution_count": 12,
     "metadata": {},
     "output_type": "execute_result"
    }
   ],
   "source": [
    "#evaluate facility types\n",
    "df['amenity'].value_counts()"
   ]
  },
  {
   "cell_type": "code",
   "execution_count": 13,
   "id": "e77fe397",
   "metadata": {},
   "outputs": [
    {
     "data": {
      "image/png": "[encoded data removed]",
      "text/plain": [
       "<Figure size 640x480 with 1 Axes>"
      ]
     },
     "metadata": {},
     "output_type": "display_data"
    }
   ],
   "source": [
    "#analyzing distribution of target variable\n",
    "import matplotlib.pyplot as plt\n",
    "\n",
    "df[\"amenity\"].value_counts().plot(kind='bar', color='skyblue')\n",
    "\n",
    "plt.xlabel('Amenity')\n",
    "plt.ylabel('Count')\n",
    "plt.title('Value counts of Amenities')\n",
    "plt.show()"
   ]
  },
  {
   "cell_type": "markdown",
   "id": "3f84d14e",
   "metadata": {},
   "source": [
    "There is a rarity in common range with one extreme high and many low counts, this suggests a class imbalance."
   ]
  },
  {
   "cell_type": "code",
   "execution_count": 14,
   "id": "6e5d7a13",
   "metadata": {},
   "outputs": [],
   "source": [
    "#handling amenity 0\n",
    "df = df[df['amenity'] != '0']"
   ]
  },
  {
   "cell_type": "code",
   "execution_count": 16,
   "id": "c6b7c824",
   "metadata": {},
   "outputs": [
    {
     "data": {
      "image/png": "[encoded data removed]",
      "text/plain": [
       "<Figure size 640x480 with 1 Axes>"
      ]
     },
     "metadata": {},
     "output_type": "display_data"
    }
   ],
   "source": [
    "#analyzing distribution of target variable with updates\n",
    "df[\"amenity\"].value_counts().plot(kind='bar', color='yellow')\n",
    "\n",
    "plt.xlabel('Amenity')\n",
    "plt.ylabel('Count')\n",
    "plt.title('Value counts of Amenities')\n",
    "plt.show()"
   ]
  },
  {
   "cell_type": "code",
   "execution_count": null,
   "id": "34f8b206",
   "metadata": {},
   "outputs": [],
   "source": []
  },
  {
   "cell_type": "code",
   "execution_count": null,
   "id": "c2208fbc",
   "metadata": {},
   "outputs": [],
   "source": []
  }
 ],
 "metadata": {
  "kernelspec": {
   "display_name": "Python 3 (ipykernel)",
   "language": "python",
   "name": "python3"
  },
  "language_info": {
   "codemirror_mode": {
    "name": "ipython",
    "version": 3
   },
   "file_extension": ".py",
   "mimetype": "text/x-python",
   "name": "python",
   "nbconvert_exporter": "python",
   "pygments_lexer": "ipython3",
   "version": "3.11.5"
  }
 },
 "nbformat": 4,
 "nbformat_minor": 5
}
