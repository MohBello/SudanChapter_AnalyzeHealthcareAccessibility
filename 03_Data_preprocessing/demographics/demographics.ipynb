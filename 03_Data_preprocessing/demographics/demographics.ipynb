{
  "nbformat": 4,
  "nbformat_minor": 0,
  "metadata": {
    "colab": {
      "provenance": []
    },
    "kernelspec": {
      "name": "python3",
      "display_name": "Python 3"
    },
    "language_info": {
      "name": "python"
    }
  },
  "cells": [
    {
      "cell_type": "markdown",
      "source": [
        "WPP2024_GEN_F01_DEMOGRAPHIC_INDICATORS_COMPACT.xlsx  \n",
        "hdro_indicators_aggregates_sdn.csv  \n",
        "hdro_indicators_sdn.csv  \n",
        "indicators_sdn.csv  \n",
        "sdg_indicatorlist_sdn.csv  \n",
        "sdg_data_sdn.csv  \n",
        "gender_sdn.csv  "
      ],
      "metadata": {
        "id": "3KaJ8Ekjk0fA"
      }
    },
    {
      "cell_type": "code",
      "execution_count": 109,
      "metadata": {
        "id": "2GyAisnHQhf1"
      },
      "outputs": [],
      "source": [
        "import pandas as pd\n",
        "import numpy as np\n",
        "import re"
      ]
    },
    {
      "cell_type": "code",
      "source": [
        "from google.colab import drive\n",
        "drive.mount('/content/MyDrive')"
      ],
      "metadata": {
        "colab": {
          "base_uri": "https://localhost:8080/"
        },
        "id": "WzqN3uAmTzz-",
        "outputId": "3106821e-b5d0-451e-9b97-ad0d640c2796"
      },
      "execution_count": 110,
      "outputs": [
        {
          "output_type": "stream",
          "name": "stdout",
          "text": [
            "Drive already mounted at /content/MyDrive; to attempt to forcibly remount, call drive.mount(\"/content/MyDrive\", force_remount=True).\n"
          ]
        }
      ]
    },
    {
      "cell_type": "code",
      "source": [
        "!ls ./MyDrive/MyDrive/omneda_sudan/"
      ],
      "metadata": {
        "colab": {
          "base_uri": "https://localhost:8080/"
        },
        "id": "tqEbvWxWThNU",
        "outputId": "957b8df1-7093-4c8f-e803-4ccec82be55d"
      },
      "execution_count": 111,
      "outputs": [
        {
          "output_type": "stream",
          "name": "stdout",
          "text": [
            "dtm_sdn_smu-bi-weekly-13-_-17122024_v02_public_hdx.xlsx\n",
            "education_sdn.csv\n",
            "gender_sdn.csv\n",
            "hdro_indicators_aggregates_sdn.csv\n",
            "hdro_indicators_sdn.csv\n",
            "indicators_sdn.csv\n",
            "primary-secondary-enrollment-completion-rates.csv\n",
            "sdg_data_sdn.csv\n",
            "sdg_indicatorlist_sdn.csv\n",
            "WPP2024_GEN_F01_DEMOGRAPHIC_INDICATORS_COMPACT.xlsx\n",
            "WPP2024_GEN_F01_DEMOGRAPHIC_INDICATORS.xlsx\n"
          ]
        }
      ]
    },
    {
      "cell_type": "code",
      "source": [],
      "metadata": {
        "id": "CA5lBVvbTXUz"
      },
      "execution_count": 111,
      "outputs": []
    },
    {
      "cell_type": "markdown",
      "source": [
        "### Read in the United Nations demographic indicator data\n",
        "\n",
        "###### WPP2024_GEN_F01_DEMOGRAPHIC_INDICATORS_COMPACT.xlsx"
      ],
      "metadata": {
        "id": "v_DUyAKVwxBi"
      }
    },
    {
      "cell_type": "code",
      "source": [
        "demo_indicator = pd.read_excel('./MyDrive/MyDrive/omneda_sudan/WPP2024_GEN_F01_DEMOGRAPHIC_INDICATORS_COMPACT.xlsx',\n",
        "                               sheet_name=\"Estimates\",\n",
        "                               skiprows=15, header=[0,1])"
      ],
      "metadata": {
        "id": "4b3xuGNUU88l"
      },
      "execution_count": 112,
      "outputs": []
    },
    {
      "cell_type": "code",
      "source": [
        "demo_indicator.head()"
      ],
      "metadata": {
        "colab": {
          "base_uri": "https://localhost:8080/",
          "height": 495
        },
        "id": "bmMzrB4PVQpH",
        "outputId": "fc8182bd-2185-4cc4-ce88-11d2d7c06309"
      },
      "execution_count": 113,
      "outputs": [
        {
          "output_type": "execute_result",
          "data": {
            "text/plain": [
              "  Unnamed: 0_level_0 Unnamed: 1_level_0                   Unnamed: 2_level_0  \\\n",
              "               Index            Variant Region, subregion, country or area *   \n",
              "0                  1          Estimates                                World   \n",
              "1                  2          Estimates                                World   \n",
              "2                  3          Estimates                                World   \n",
              "3                  4          Estimates                                World   \n",
              "4                  5          Estimates                                World   \n",
              "\n",
              "  Unnamed: 3_level_0 Unnamed: 4_level_0 Unnamed: 5_level_0 Unnamed: 6_level_0  \\\n",
              "               Notes      Location code    ISO3 Alpha-code    ISO2 Alpha-code   \n",
              "0                NaN                900                NaN                NaN   \n",
              "1                NaN                900                NaN                NaN   \n",
              "2                NaN                900                NaN                NaN   \n",
              "3                NaN                900                NaN                NaN   \n",
              "4                NaN                900                NaN                NaN   \n",
              "\n",
              "  Unnamed: 7_level_0 Unnamed: 8_level_0 Unnamed: 9_level_0  ...  \\\n",
              "         SDMX code**               Type        Parent code  ...   \n",
              "0                1.0              World                  0  ...   \n",
              "1                1.0              World                  0  ...   \n",
              "2                1.0              World                  0  ...   \n",
              "3                1.0              World                  0  ...   \n",
              "4                1.0              World                  0  ...   \n",
              "\n",
              "                                                                      Mortality  \\\n",
              "  Male Mortality before Age 60 (deaths under age 60 per 1,000 male live births)   \n",
              "0                                              580.5                              \n",
              "1                                            566.566                              \n",
              "2                                            546.444                              \n",
              "3                                            535.811                              \n",
              "4                                            522.058                              \n",
              "\n",
              "                                                                                     \\\n",
              "  Female Mortality before Age 60 (deaths under age 60 per 1,000 female live births)   \n",
              "0                                            497.388                                  \n",
              "1                                            488.435                                  \n",
              "2                                             475.37                                  \n",
              "3                                            467.361                                  \n",
              "4                                            455.621                                  \n",
              "\n",
              "                                                                                               \\\n",
              "  Mortality between Age 15 and 50, both sexes (deaths under age 50 per 1,000 alive at age 15)   \n",
              "0                                            238.516                                            \n",
              "1                                            229.703                                            \n",
              "2                                            217.311                                            \n",
              "3                                            211.257                                            \n",
              "4                                            203.337                                            \n",
              "\n",
              "                                                                                              \\\n",
              "  Male Mortality between Age 15 and 50 (deaths under age 50 per 1,000 males alive at age 15)   \n",
              "0                                            268.734                                           \n",
              "1                                            256.236                                           \n",
              "2                                             238.56                                           \n",
              "3                                            230.961                                           \n",
              "4                                            221.377                                           \n",
              "\n",
              "                                                                                                  \\\n",
              "  Female Mortality between Age 15 and 50 (deaths under age 50 per 1,000 females alive at age 15)   \n",
              "0                                             207.62                                               \n",
              "1                                            202.734                                               \n",
              "2                                            195.926                                               \n",
              "3                                            191.482                                               \n",
              "4                                            185.296                                               \n",
              "\n",
              "                                                                                               \\\n",
              "  Mortality between Age 15 and 60, both sexes (deaths under age 60 per 1,000 alive at age 15)   \n",
              "0                                            375.391                                            \n",
              "1                                            365.226                                            \n",
              "2                                            350.613                                            \n",
              "3                                            342.734                                            \n",
              "4                                            332.327                                            \n",
              "\n",
              "                                                                                              \\\n",
              "  Male Mortality between Age 15 and 60 (deaths under age 60 per 1,000 males alive at age 15)   \n",
              "0                                            426.221                                           \n",
              "1                                             412.76                                           \n",
              "2                                            393.364                                           \n",
              "3                                            383.875                                           \n",
              "4                                            371.737                                           \n",
              "\n",
              "                                                                                                  \\\n",
              "  Female Mortality between Age 15 and 60 (deaths under age 60 per 1,000 females alive at age 15)   \n",
              "0                                             322.65                                               \n",
              "1                                            316.395                                               \n",
              "2                                            307.314                                               \n",
              "3                                             301.27                                               \n",
              "4                                            292.807                                               \n",
              "\n",
              "                           Migration                                            \n",
              "  Net Number of Migrants (thousands) Net Migration Rate (per 1,000 population)  \n",
              "0                                  0                                         0  \n",
              "1                                  0                                         0  \n",
              "2                                  0                                         0  \n",
              "3                                  0                                         0  \n",
              "4                                  0                                         0  \n",
              "\n",
              "[5 rows x 65 columns]"
            ],
            "text/html": [
              "\n",
              "  <div id=\"df-509ee176-0d54-4155-92ab-56ca93abf390\" class=\"colab-df-container\">\n",
              "    <div>\n",
              "<style scoped>\n",
              "    .dataframe tbody tr th:only-of-type {\n",
              "        vertical-align: middle;\n",
              "    }\n",
              "\n",
              "    .dataframe tbody tr th {\n",
              "        vertical-align: top;\n",
              "    }\n",
              "\n",
              "    .dataframe thead tr th {\n",
              "        text-align: left;\n",
              "    }\n",
              "</style>\n",
              "<table border=\"1\" class=\"dataframe\">\n",
              "  <thead>\n",
              "    <tr>\n",
              "      <th></th>\n",
              "      <th>Unnamed: 0_level_0</th>\n",
              "      <th>Unnamed: 1_level_0</th>\n",
              "      <th>Unnamed: 2_level_0</th>\n",
              "      <th>Unnamed: 3_level_0</th>\n",
              "      <th>Unnamed: 4_level_0</th>\n",
              "      <th>Unnamed: 5_level_0</th>\n",
              "      <th>Unnamed: 6_level_0</th>\n",
              "      <th>Unnamed: 7_level_0</th>\n",
              "      <th>Unnamed: 8_level_0</th>\n",
              "      <th>Unnamed: 9_level_0</th>\n",
              "      <th>...</th>\n",
              "      <th colspan=\"8\" halign=\"left\">Mortality</th>\n",
              "      <th colspan=\"2\" halign=\"left\">Migration</th>\n",
              "    </tr>\n",
              "    <tr>\n",
              "      <th></th>\n",
              "      <th>Index</th>\n",
              "      <th>Variant</th>\n",
              "      <th>Region, subregion, country or area *</th>\n",
              "      <th>Notes</th>\n",
              "      <th>Location code</th>\n",
              "      <th>ISO3 Alpha-code</th>\n",
              "      <th>ISO2 Alpha-code</th>\n",
              "      <th>SDMX code**</th>\n",
              "      <th>Type</th>\n",
              "      <th>Parent code</th>\n",
              "      <th>...</th>\n",
              "      <th>Male Mortality before Age 60 (deaths under age 60 per 1,000 male live births)</th>\n",
              "      <th>Female Mortality before Age 60 (deaths under age 60 per 1,000 female live births)</th>\n",
              "      <th>Mortality between Age 15 and 50, both sexes (deaths under age 50 per 1,000 alive at age 15)</th>\n",
              "      <th>Male Mortality between Age 15 and 50 (deaths under age 50 per 1,000 males alive at age 15)</th>\n",
              "      <th>Female Mortality between Age 15 and 50 (deaths under age 50 per 1,000 females alive at age 15)</th>\n",
              "      <th>Mortality between Age 15 and 60, both sexes (deaths under age 60 per 1,000 alive at age 15)</th>\n",
              "      <th>Male Mortality between Age 15 and 60 (deaths under age 60 per 1,000 males alive at age 15)</th>\n",
              "      <th>Female Mortality between Age 15 and 60 (deaths under age 60 per 1,000 females alive at age 15)</th>\n",
              "      <th>Net Number of Migrants (thousands)</th>\n",
              "      <th>Net Migration Rate (per 1,000 population)</th>\n",
              "    </tr>\n",
              "  </thead>\n",
              "  <tbody>\n",
              "    <tr>\n",
              "      <th>0</th>\n",
              "      <td>1</td>\n",
              "      <td>Estimates</td>\n",
              "      <td>World</td>\n",
              "      <td>NaN</td>\n",
              "      <td>900</td>\n",
              "      <td>NaN</td>\n",
              "      <td>NaN</td>\n",
              "      <td>1.0</td>\n",
              "      <td>World</td>\n",
              "      <td>0</td>\n",
              "      <td>...</td>\n",
              "      <td>580.5</td>\n",
              "      <td>497.388</td>\n",
              "      <td>238.516</td>\n",
              "      <td>268.734</td>\n",
              "      <td>207.62</td>\n",
              "      <td>375.391</td>\n",
              "      <td>426.221</td>\n",
              "      <td>322.65</td>\n",
              "      <td>0</td>\n",
              "      <td>0</td>\n",
              "    </tr>\n",
              "    <tr>\n",
              "      <th>1</th>\n",
              "      <td>2</td>\n",
              "      <td>Estimates</td>\n",
              "      <td>World</td>\n",
              "      <td>NaN</td>\n",
              "      <td>900</td>\n",
              "      <td>NaN</td>\n",
              "      <td>NaN</td>\n",
              "      <td>1.0</td>\n",
              "      <td>World</td>\n",
              "      <td>0</td>\n",
              "      <td>...</td>\n",
              "      <td>566.566</td>\n",
              "      <td>488.435</td>\n",
              "      <td>229.703</td>\n",
              "      <td>256.236</td>\n",
              "      <td>202.734</td>\n",
              "      <td>365.226</td>\n",
              "      <td>412.76</td>\n",
              "      <td>316.395</td>\n",
              "      <td>0</td>\n",
              "      <td>0</td>\n",
              "    </tr>\n",
              "    <tr>\n",
              "      <th>2</th>\n",
              "      <td>3</td>\n",
              "      <td>Estimates</td>\n",
              "      <td>World</td>\n",
              "      <td>NaN</td>\n",
              "      <td>900</td>\n",
              "      <td>NaN</td>\n",
              "      <td>NaN</td>\n",
              "      <td>1.0</td>\n",
              "      <td>World</td>\n",
              "      <td>0</td>\n",
              "      <td>...</td>\n",
              "      <td>546.444</td>\n",
              "      <td>475.37</td>\n",
              "      <td>217.311</td>\n",
              "      <td>238.56</td>\n",
              "      <td>195.926</td>\n",
              "      <td>350.613</td>\n",
              "      <td>393.364</td>\n",
              "      <td>307.314</td>\n",
              "      <td>0</td>\n",
              "      <td>0</td>\n",
              "    </tr>\n",
              "    <tr>\n",
              "      <th>3</th>\n",
              "      <td>4</td>\n",
              "      <td>Estimates</td>\n",
              "      <td>World</td>\n",
              "      <td>NaN</td>\n",
              "      <td>900</td>\n",
              "      <td>NaN</td>\n",
              "      <td>NaN</td>\n",
              "      <td>1.0</td>\n",
              "      <td>World</td>\n",
              "      <td>0</td>\n",
              "      <td>...</td>\n",
              "      <td>535.811</td>\n",
              "      <td>467.361</td>\n",
              "      <td>211.257</td>\n",
              "      <td>230.961</td>\n",
              "      <td>191.482</td>\n",
              "      <td>342.734</td>\n",
              "      <td>383.875</td>\n",
              "      <td>301.27</td>\n",
              "      <td>0</td>\n",
              "      <td>0</td>\n",
              "    </tr>\n",
              "    <tr>\n",
              "      <th>4</th>\n",
              "      <td>5</td>\n",
              "      <td>Estimates</td>\n",
              "      <td>World</td>\n",
              "      <td>NaN</td>\n",
              "      <td>900</td>\n",
              "      <td>NaN</td>\n",
              "      <td>NaN</td>\n",
              "      <td>1.0</td>\n",
              "      <td>World</td>\n",
              "      <td>0</td>\n",
              "      <td>...</td>\n",
              "      <td>522.058</td>\n",
              "      <td>455.621</td>\n",
              "      <td>203.337</td>\n",
              "      <td>221.377</td>\n",
              "      <td>185.296</td>\n",
              "      <td>332.327</td>\n",
              "      <td>371.737</td>\n",
              "      <td>292.807</td>\n",
              "      <td>0</td>\n",
              "      <td>0</td>\n",
              "    </tr>\n",
              "  </tbody>\n",
              "</table>\n",
              "<p>5 rows × 65 columns</p>\n",
              "</div>\n",
              "    <div class=\"colab-df-buttons\">\n",
              "\n",
              "  <div class=\"colab-df-container\">\n",
              "    <button class=\"colab-df-convert\" onclick=\"convertToInteractive('df-509ee176-0d54-4155-92ab-56ca93abf390')\"\n",
              "            title=\"Convert this dataframe to an interactive table.\"\n",
              "            style=\"display:none;\">\n",
              "\n",
              "  <svg xmlns=\"http://www.w3.org/2000/svg\" height=\"24px\" viewBox=\"0 -960 960 960\">\n",
              "    <path d=\"M120-120v-720h720v720H120Zm60-500h600v-160H180v160Zm220 220h160v-160H400v160Zm0 220h160v-160H400v160ZM180-400h160v-160H180v160Zm440 0h160v-160H620v160ZM180-180h160v-160H180v160Zm440 0h160v-160H620v160Z\"/>\n",
              "  </svg>\n",
              "    </button>\n",
              "\n",
              "  <style>\n",
              "    .colab-df-container {\n",
              "      display:flex;\n",
              "      gap: 12px;\n",
              "    }\n",
              "\n",
              "    .colab-df-convert {\n",
              "      background-color: #E8F0FE;\n",
              "      border: none;\n",
              "      border-radius: 50%;\n",
              "      cursor: pointer;\n",
              "      display: none;\n",
              "      fill: #1967D2;\n",
              "      height: 32px;\n",
              "      padding: 0 0 0 0;\n",
              "      width: 32px;\n",
              "    }\n",
              "\n",
              "    .colab-df-convert:hover {\n",
              "      background-color: #E2EBFA;\n",
              "      box-shadow: 0px 1px 2px rgba(60, 64, 67, 0.3), 0px 1px 3px 1px rgba(60, 64, 67, 0.15);\n",
              "      fill: #174EA6;\n",
              "    }\n",
              "\n",
              "    .colab-df-buttons div {\n",
              "      margin-bottom: 4px;\n",
              "    }\n",
              "\n",
              "    [theme=dark] .colab-df-convert {\n",
              "      background-color: #3B4455;\n",
              "      fill: #D2E3FC;\n",
              "    }\n",
              "\n",
              "    [theme=dark] .colab-df-convert:hover {\n",
              "      background-color: #434B5C;\n",
              "      box-shadow: 0px 1px 3px 1px rgba(0, 0, 0, 0.15);\n",
              "      filter: drop-shadow(0px 1px 2px rgba(0, 0, 0, 0.3));\n",
              "      fill: #FFFFFF;\n",
              "    }\n",
              "  </style>\n",
              "\n",
              "    <script>\n",
              "      const buttonEl =\n",
              "        document.querySelector('#df-509ee176-0d54-4155-92ab-56ca93abf390 button.colab-df-convert');\n",
              "      buttonEl.style.display =\n",
              "        google.colab.kernel.accessAllowed ? 'block' : 'none';\n",
              "\n",
              "      async function convertToInteractive(key) {\n",
              "        const element = document.querySelector('#df-509ee176-0d54-4155-92ab-56ca93abf390');\n",
              "        const dataTable =\n",
              "          await google.colab.kernel.invokeFunction('convertToInteractive',\n",
              "                                                    [key], {});\n",
              "        if (!dataTable) return;\n",
              "\n",
              "        const docLinkHtml = 'Like what you see? Visit the ' +\n",
              "          '<a target=\"_blank\" href=https://colab.research.google.com/notebooks/data_table.ipynb>data table notebook</a>'\n",
              "          + ' to learn more about interactive tables.';\n",
              "        element.innerHTML = '';\n",
              "        dataTable['output_type'] = 'display_data';\n",
              "        await google.colab.output.renderOutput(dataTable, element);\n",
              "        const docLink = document.createElement('div');\n",
              "        docLink.innerHTML = docLinkHtml;\n",
              "        element.appendChild(docLink);\n",
              "      }\n",
              "    </script>\n",
              "  </div>\n",
              "\n",
              "\n",
              "<div id=\"df-1ea83f6a-cf55-40c6-a23e-c35b9e67a241\">\n",
              "  <button class=\"colab-df-quickchart\" onclick=\"quickchart('df-1ea83f6a-cf55-40c6-a23e-c35b9e67a241')\"\n",
              "            title=\"Suggest charts\"\n",
              "            style=\"display:none;\">\n",
              "\n",
              "<svg xmlns=\"http://www.w3.org/2000/svg\" height=\"24px\"viewBox=\"0 0 24 24\"\n",
              "     width=\"24px\">\n",
              "    <g>\n",
              "        <path d=\"M19 3H5c-1.1 0-2 .9-2 2v14c0 1.1.9 2 2 2h14c1.1 0 2-.9 2-2V5c0-1.1-.9-2-2-2zM9 17H7v-7h2v7zm4 0h-2V7h2v10zm4 0h-2v-4h2v4z\"/>\n",
              "    </g>\n",
              "</svg>\n",
              "  </button>\n",
              "\n",
              "<style>\n",
              "  .colab-df-quickchart {\n",
              "      --bg-color: #E8F0FE;\n",
              "      --fill-color: #1967D2;\n",
              "      --hover-bg-color: #E2EBFA;\n",
              "      --hover-fill-color: #174EA6;\n",
              "      --disabled-fill-color: #AAA;\n",
              "      --disabled-bg-color: #DDD;\n",
              "  }\n",
              "\n",
              "  [theme=dark] .colab-df-quickchart {\n",
              "      --bg-color: #3B4455;\n",
              "      --fill-color: #D2E3FC;\n",
              "      --hover-bg-color: #434B5C;\n",
              "      --hover-fill-color: #FFFFFF;\n",
              "      --disabled-bg-color: #3B4455;\n",
              "      --disabled-fill-color: #666;\n",
              "  }\n",
              "\n",
              "  .colab-df-quickchart {\n",
              "    background-color: var(--bg-color);\n",
              "    border: none;\n",
              "    border-radius: 50%;\n",
              "    cursor: pointer;\n",
              "    display: none;\n",
              "    fill: var(--fill-color);\n",
              "    height: 32px;\n",
              "    padding: 0;\n",
              "    width: 32px;\n",
              "  }\n",
              "\n",
              "  .colab-df-quickchart:hover {\n",
              "    background-color: var(--hover-bg-color);\n",
              "    box-shadow: 0 1px 2px rgba(60, 64, 67, 0.3), 0 1px 3px 1px rgba(60, 64, 67, 0.15);\n",
              "    fill: var(--button-hover-fill-color);\n",
              "  }\n",
              "\n",
              "  .colab-df-quickchart-complete:disabled,\n",
              "  .colab-df-quickchart-complete:disabled:hover {\n",
              "    background-color: var(--disabled-bg-color);\n",
              "    fill: var(--disabled-fill-color);\n",
              "    box-shadow: none;\n",
              "  }\n",
              "\n",
              "  .colab-df-spinner {\n",
              "    border: 2px solid var(--fill-color);\n",
              "    border-color: transparent;\n",
              "    border-bottom-color: var(--fill-color);\n",
              "    animation:\n",
              "      spin 1s steps(1) infinite;\n",
              "  }\n",
              "\n",
              "  @keyframes spin {\n",
              "    0% {\n",
              "      border-color: transparent;\n",
              "      border-bottom-color: var(--fill-color);\n",
              "      border-left-color: var(--fill-color);\n",
              "    }\n",
              "    20% {\n",
              "      border-color: transparent;\n",
              "      border-left-color: var(--fill-color);\n",
              "      border-top-color: var(--fill-color);\n",
              "    }\n",
              "    30% {\n",
              "      border-color: transparent;\n",
              "      border-left-color: var(--fill-color);\n",
              "      border-top-color: var(--fill-color);\n",
              "      border-right-color: var(--fill-color);\n",
              "    }\n",
              "    40% {\n",
              "      border-color: transparent;\n",
              "      border-right-color: var(--fill-color);\n",
              "      border-top-color: var(--fill-color);\n",
              "    }\n",
              "    60% {\n",
              "      border-color: transparent;\n",
              "      border-right-color: var(--fill-color);\n",
              "    }\n",
              "    80% {\n",
              "      border-color: transparent;\n",
              "      border-right-color: var(--fill-color);\n",
              "      border-bottom-color: var(--fill-color);\n",
              "    }\n",
              "    90% {\n",
              "      border-color: transparent;\n",
              "      border-bottom-color: var(--fill-color);\n",
              "    }\n",
              "  }\n",
              "</style>\n",
              "\n",
              "  <script>\n",
              "    async function quickchart(key) {\n",
              "      const quickchartButtonEl =\n",
              "        document.querySelector('#' + key + ' button');\n",
              "      quickchartButtonEl.disabled = true;  // To prevent multiple clicks.\n",
              "      quickchartButtonEl.classList.add('colab-df-spinner');\n",
              "      try {\n",
              "        const charts = await google.colab.kernel.invokeFunction(\n",
              "            'suggestCharts', [key], {});\n",
              "      } catch (error) {\n",
              "        console.error('Error during call to suggestCharts:', error);\n",
              "      }\n",
              "      quickchartButtonEl.classList.remove('colab-df-spinner');\n",
              "      quickchartButtonEl.classList.add('colab-df-quickchart-complete');\n",
              "    }\n",
              "    (() => {\n",
              "      let quickchartButtonEl =\n",
              "        document.querySelector('#df-1ea83f6a-cf55-40c6-a23e-c35b9e67a241 button');\n",
              "      quickchartButtonEl.style.display =\n",
              "        google.colab.kernel.accessAllowed ? 'block' : 'none';\n",
              "    })();\n",
              "  </script>\n",
              "</div>\n",
              "\n",
              "    </div>\n",
              "  </div>\n"
            ],
            "application/vnd.google.colaboratory.intrinsic+json": {
              "type": "dataframe",
              "variable_name": "demo_indicator"
            }
          },
          "metadata": {},
          "execution_count": 113
        }
      ]
    },
    {
      "cell_type": "code",
      "source": [
        "# demo_indicator.columns.values\n",
        "demo_indicator.columns=['_'.join(col).strip() for col in demo_indicator.columns.values]\n",
        "demo_indicator.columns=[re.findall(\"level_0_(.*)\", col)[0]  if col.startswith('Unnamed') else col for col in demo_indicator.columns ]\n",
        "demographics=demo_indicator[demo_indicator['Region, subregion, country or area *'].eq('Sudan')]\n",
        "\n",
        "# demo_indicator.columns"
      ],
      "metadata": {
        "id": "NUld_LCDVapi"
      },
      "execution_count": 114,
      "outputs": []
    },
    {
      "cell_type": "code",
      "source": [
        "def mergeIntoDemographics(df, colName='Indicator Name', indexName='Year', valueName='Value', suffix=None ):\n",
        "\n",
        "  return demographics.merge(df.pivot(columns=colName, values = valueName, index=indexName).reset_index(),\n",
        "                                 left_on  = 'Year',\n",
        "                                 right_on = indexName,\n",
        "                                 how      = 'left',\n",
        "                                 suffixes=(None, suffix)\n",
        "                                 )\n",
        "\n",
        "def cleanFile(df, yearCol='Year', indicatorCol='Indicator Name'):\n",
        "  df.drop(0, inplace=True)\n",
        "  df[yearCol]      = df[yearCol].apply(pd.to_numeric)\n",
        "  df[indicatorCol] = df[indicatorCol].astype(str)\n",
        "  df.drop_duplicates(subset=[yearCol, indicatorCol], inplace=True)\n",
        "  return df\n"
      ],
      "metadata": {
        "id": "ceFOZoSyp8oC"
      },
      "execution_count": 115,
      "outputs": []
    },
    {
      "cell_type": "code",
      "source": [
        "len(demographics.columns)"
      ],
      "metadata": {
        "colab": {
          "base_uri": "https://localhost:8080/"
        },
        "id": "g1byuGK0rBti",
        "outputId": "673e0090-0eee-4c01-b80e-4108d832e2a5"
      },
      "execution_count": 116,
      "outputs": [
        {
          "output_type": "execute_result",
          "data": {
            "text/plain": [
              "65"
            ]
          },
          "metadata": {},
          "execution_count": 116
        }
      ]
    },
    {
      "cell_type": "code",
      "source": [
        "df=pd.read_csv('./MyDrive/MyDrive/omneda_sudan/hdro_indicators_aggregates_sdn.csv')\n",
        "yearCol = 'year'\n",
        "indicatorCol = 'indicator_name'\n",
        "valCol = 'value'\n",
        "df=cleanFile(df, yearCol, indicatorCol)\n",
        "demographics = mergeIntoDemographics(df, indicatorCol, yearCol, valCol, 'hdro')"
      ],
      "metadata": {
        "id": "4yy2RmWZp8kq"
      },
      "execution_count": 117,
      "outputs": []
    },
    {
      "cell_type": "code",
      "source": [
        "len(demographics.columns)"
      ],
      "metadata": {
        "colab": {
          "base_uri": "https://localhost:8080/"
        },
        "id": "EY_jAebfp8fE",
        "outputId": "4c8895a6-7ec4-4f54-8dd4-86edd0dfbc83"
      },
      "execution_count": 118,
      "outputs": [
        {
          "output_type": "execute_result",
          "data": {
            "text/plain": [
              "71"
            ]
          },
          "metadata": {},
          "execution_count": 118
        }
      ]
    },
    {
      "cell_type": "code",
      "source": [
        "df=pd.read_csv('./MyDrive/MyDrive/omneda_sudan/hdro_indicators_sdn.csv')\n",
        "yearCol = 'year'\n",
        "indicatorCol = 'indicator_name'\n",
        "valCol = 'value'\n",
        "df=cleanFile(df, yearCol, indicatorCol)\n",
        "demographics = mergeIntoDemographics(df, indicatorCol, yearCol, valCol, 'hdro')\n",
        "print(f\"demographics column count {len(demographics.columns)}\")"
      ],
      "metadata": {
        "colab": {
          "base_uri": "https://localhost:8080/"
        },
        "id": "gSHCssnCp8bt",
        "outputId": "07d69200-1de3-4968-a331-4249da61a26a"
      },
      "execution_count": 119,
      "outputs": [
        {
          "output_type": "stream",
          "name": "stdout",
          "text": [
            "demographics column count 117\n"
          ]
        }
      ]
    },
    {
      "cell_type": "code",
      "source": [
        "df=pd.read_csv('./MyDrive/MyDrive/omneda_sudan/indicators_sdn.csv')\n",
        "yearCol = 'Year'\n",
        "indicatorCol = 'Indicator Name'\n",
        "valCol = 'Value'\n",
        "df=cleanFile(df, yearCol, indicatorCol)\n",
        "demographics = mergeIntoDemographics(df, indicatorCol, yearCol, valCol, 'indicators')\n",
        "print(f\"demographics column count {len(demographics.columns)}\")\n",
        "\n"
      ],
      "metadata": {
        "colab": {
          "base_uri": "https://localhost:8080/"
        },
        "id": "dV-QpLSPrnRL",
        "outputId": "23302963-4512-438e-ded9-cb89d5901178"
      },
      "execution_count": 120,
      "outputs": [
        {
          "output_type": "stream",
          "name": "stdout",
          "text": [
            "demographics column count 3000\n"
          ]
        }
      ]
    },
    {
      "cell_type": "code",
      "source": [
        "sdg      = pd.read_csv('./MyDrive/MyDrive/omneda_sudan/sdg_indicatorlist_sdn.csv')\n",
        "sdg_data = pd.read_csv('./MyDrive/MyDrive/omneda_sudan/sdg_data_sdn.csv')\n",
        "df       = sdg_data.merge(sdg, on='indicator_id', how='left')\n",
        "\n",
        "\n",
        "yearCol = 'year'\n",
        "indicatorCol = 'indicator_label_en'\n",
        "valCol = 'value'\n",
        "\n",
        "df=cleanFile(df, yearCol, indicatorCol)\n",
        "demographics = mergeIntoDemographics(df, indicatorCol, yearCol, valCol, 'sdg')\n",
        "print(f\"demographics column count {len(demographics.columns)}\")\n",
        "\n",
        "\n"
      ],
      "metadata": {
        "colab": {
          "base_uri": "https://localhost:8080/"
        },
        "id": "EQx5PFwKsAye",
        "outputId": "3bbc905c-bca9-414a-b81e-0d9694f1a665"
      },
      "execution_count": 121,
      "outputs": [
        {
          "output_type": "stream",
          "name": "stdout",
          "text": [
            "demographics column count 4051\n"
          ]
        }
      ]
    },
    {
      "cell_type": "code",
      "source": [
        "df=pd.read_csv('./MyDrive/MyDrive/omneda_sudan/gender_sdn.csv')\n",
        "yearCol = 'Year'\n",
        "indicatorCol = 'Indicator Name'\n",
        "valCol = 'Value'\n",
        "df=cleanFile(df, yearCol, indicatorCol)\n",
        "demographics = mergeIntoDemographics(df, indicatorCol, yearCol, valCol, 'gender')\n",
        "print(f\"demographics column count {len(demographics.columns)}\")\n"
      ],
      "metadata": {
        "colab": {
          "base_uri": "https://localhost:8080/"
        },
        "id": "SrU-3tt5sAvP",
        "outputId": "f7740a44-7a69-4377-8455-22aa8d983091"
      },
      "execution_count": 122,
      "outputs": [
        {
          "output_type": "stream",
          "name": "stdout",
          "text": [
            "demographics column count 4271\n"
          ]
        }
      ]
    },
    {
      "cell_type": "code",
      "source": [
        "df=pd.read_csv('./MyDrive/MyDrive/omneda_sudan/education_sdn.csv')\n",
        "yearCol = 'Year'\n",
        "indicatorCol = 'Indicator Name'\n",
        "valCol = 'Value'\n",
        "df=cleanFile(df, yearCol, indicatorCol)\n",
        "demographics = mergeIntoDemographics(df, indicatorCol, yearCol, valCol, 'education')\n",
        "print(f\"demographics column count {len(demographics.columns)}\")\n",
        "\n"
      ],
      "metadata": {
        "colab": {
          "base_uri": "https://localhost:8080/"
        },
        "id": "RfkfDKW1sAtB",
        "outputId": "3f50c9db-b145-4e35-a0ed-7c85c4bc770d"
      },
      "execution_count": 123,
      "outputs": [
        {
          "output_type": "stream",
          "name": "stdout",
          "text": [
            "demographics column count 5055\n"
          ]
        }
      ]
    },
    {
      "cell_type": "code",
      "source": [
        "demographics.to_csv('demographics.csv')"
      ],
      "metadata": {
        "id": "xI6H80_fsAqa"
      },
      "execution_count": 124,
      "outputs": []
    },
    {
      "cell_type": "code",
      "source": [
        "# df = pd.read_csv('./MyDrive/MyDrive/omneda_sudan/primary-secondary-enrollment-completion-rates.csv')"
      ],
      "metadata": {
        "id": "OJmGY_QxrnLO"
      },
      "execution_count": 125,
      "outputs": []
    },
    {
      "cell_type": "code",
      "source": [
        "# df[df['Entity'] =='Sudan']"
      ],
      "metadata": {
        "id": "NIDzEOrDrnIx"
      },
      "execution_count": 126,
      "outputs": []
    },
    {
      "cell_type": "code",
      "source": [],
      "metadata": {
        "id": "uF8X8LNFp8Y3"
      },
      "execution_count": 126,
      "outputs": []
    },
    {
      "cell_type": "code",
      "source": [],
      "metadata": {
        "id": "PMt6QvyTp8WD"
      },
      "execution_count": 126,
      "outputs": []
    },
    {
      "cell_type": "code",
      "source": [],
      "metadata": {
        "id": "m9uKmtT1p8TR"
      },
      "execution_count": 126,
      "outputs": []
    },
    {
      "cell_type": "markdown",
      "source": [
        "### Read Aggregated Human Development Indicators for Sudan\n",
        "hdro_indicators_aggregates_sdn.csv"
      ],
      "metadata": {
        "id": "wT8ZsZWexDWB"
      }
    },
    {
      "cell_type": "code",
      "source": [
        "# hdro_indicators_agg=pd.read_csv('./MyDrive/MyDrive/omneda_sudan/hdro_indicators_aggregates_sdn.csv')\n",
        "# hdro_indicators_agg.drop(0, inplace=True)\n",
        "# hdro_indicators_agg['year'] = hdro_indicators_agg['year'].apply(pd.to_numeric)\n",
        "\n",
        "# hdro_indicators_agg.head()"
      ],
      "metadata": {
        "id": "icx-GDbZtZ-w"
      },
      "execution_count": 127,
      "outputs": []
    },
    {
      "cell_type": "code",
      "source": [
        "# hdro_indicators.pivot(columns=['indicator_name'], values = 'value', index=['year']).reset_index().head()"
      ],
      "metadata": {
        "id": "GM1l10l3DWES"
      },
      "execution_count": 128,
      "outputs": []
    },
    {
      "cell_type": "markdown",
      "source": [
        "### merge into demographics"
      ],
      "metadata": {
        "id": "jXRETiP3Ilht"
      }
    },
    {
      "cell_type": "code",
      "source": [
        "# demographics= demographics.merge(hdro_indicators_agg.pivot(columns=['indicator_name'], values = 'value', index=['year']).reset_index(),\n",
        "#                                  left_on='Year',\n",
        "#                                  right_on='year',\n",
        "#                                  how='left'\n",
        "#                                  ).drop(columns=('year'))"
      ],
      "metadata": {
        "id": "n6F0wILC0NUF"
      },
      "execution_count": 129,
      "outputs": []
    },
    {
      "cell_type": "code",
      "source": [
        "# demographics.columns"
      ],
      "metadata": {
        "collapsed": true,
        "id": "dfcxz44o1gVB"
      },
      "execution_count": 130,
      "outputs": []
    },
    {
      "cell_type": "markdown",
      "source": [
        "#### hdro_indicators_sdn.csv"
      ],
      "metadata": {
        "id": "-76ykpYzFqxL"
      }
    },
    {
      "cell_type": "code",
      "source": [
        "# hdro_indicators=pd.read_csv('./MyDrive/MyDrive/omneda_sudan/hdro_indicators_sdn.csv')\n",
        "# hdro_indicators.drop(0, inplace=True)\n",
        "# hdro_indicators['year'] = hdro_indicators['year'].apply(pd.to_numeric)\n",
        "\n",
        "# hdro_indicators.head()"
      ],
      "metadata": {
        "id": "h_f6jvLlER9I"
      },
      "execution_count": 131,
      "outputs": []
    },
    {
      "cell_type": "code",
      "source": [
        "# demographics= demographics.merge(hdro_indicators.pivot(columns=['indicator_name'], values = 'value', index=['year']).reset_index(),\n",
        "#                                  left_on='Year',\n",
        "#                                  right_on='year',\n",
        "#                                  how='left'\n",
        "#                                  ).drop(columns=('year'))"
      ],
      "metadata": {
        "id": "cJTUB4gUGE0w"
      },
      "execution_count": 132,
      "outputs": []
    },
    {
      "cell_type": "code",
      "source": [
        "# hdro_indicators.pivot(columns=['indicator_name'], values = 'value', index=['year']).reset_index().head()"
      ],
      "metadata": {
        "id": "zSaiL8M4Gu3T"
      },
      "execution_count": 133,
      "outputs": []
    },
    {
      "cell_type": "code",
      "source": [
        "# hdro_indicators.columns"
      ],
      "metadata": {
        "id": "H2-KYhkBG_Ld"
      },
      "execution_count": 134,
      "outputs": []
    },
    {
      "cell_type": "code",
      "source": [
        "# hdro_indicators.iloc[25:].head(10)"
      ],
      "metadata": {
        "id": "hjzofESKHB_M"
      },
      "execution_count": 135,
      "outputs": []
    },
    {
      "cell_type": "code",
      "source": [
        "# hdro_indicators['index_indicator_name']=hdro_indicators['index_name'] + \"_\" + hdro_indicators['indicator_name']"
      ],
      "metadata": {
        "id": "CaFwWrA4HXKL"
      },
      "execution_count": 136,
      "outputs": []
    },
    {
      "cell_type": "code",
      "source": [
        "# hdro_indicators.pivot(columns=  ['index_indicator_name'], values = 'value', index=['year']).reset_index().head()"
      ],
      "metadata": {
        "id": "2wURTOn8IC7d"
      },
      "execution_count": 137,
      "outputs": []
    },
    {
      "cell_type": "code",
      "source": [],
      "metadata": {
        "id": "dfZu_D1iIKlk"
      },
      "execution_count": 137,
      "outputs": []
    },
    {
      "cell_type": "code",
      "source": [
        "# demographics.head().to_csv('demographics_top5.csv')"
      ],
      "metadata": {
        "id": "p2SK3YuOIqYJ"
      },
      "execution_count": 138,
      "outputs": []
    },
    {
      "cell_type": "markdown",
      "source": [
        "#### Indicators SDN\n",
        "hdro_indicators=pd.read_csv('./MyDrive/MyDrive/omneda_sudan/hdro_indicators_sdn.csv')\n",
        "hdro_indicators.head()"
      ],
      "metadata": {
        "id": "I1YOV1d3KJ4N"
      }
    },
    {
      "cell_type": "code",
      "source": [
        "# indicators=pd.read_csv('./MyDrive/MyDrive/omneda_sudan/indicators_sdn.csv')\n",
        "# indicators.drop(0, inplace=True)\n",
        "# indicators.drop_duplicates(subset=['Year', 'Indicator Name'], inplace=True)\n",
        "# # indicators.drop_duplicates(subset=['Year', 'Indicator Name', 'Value'], inplace=True)\n",
        "# indicators['Year'] = indicators['Year'].apply(pd.to_numeric)\n",
        "# indicators.head()"
      ],
      "metadata": {
        "id": "A7E2ka9RJdwS"
      },
      "execution_count": 139,
      "outputs": []
    },
    {
      "cell_type": "code",
      "source": [
        "# indicators.pivot(columns=['Indicator Name'], values = 'Value', index=['Year']).reset_index()"
      ],
      "metadata": {
        "id": "mNk_j-PsKwCD"
      },
      "execution_count": 140,
      "outputs": []
    },
    {
      "cell_type": "code",
      "source": [
        "# demographics= demographics.merge(indicators.pivot(columns=['Indicator Name'], values = 'Value', index=['Year']).reset_index(),\n",
        "#                                  left_on='Year',\n",
        "#                                  right_on='Year',\n",
        "#                                  how='left'\n",
        "#                                  )"
      ],
      "metadata": {
        "id": "q-gX9qFaOUb0"
      },
      "execution_count": 141,
      "outputs": []
    },
    {
      "cell_type": "markdown",
      "source": [
        "#### SDG Indicator list and data"
      ],
      "metadata": {
        "id": "iCwl5DJ6QILY"
      }
    },
    {
      "cell_type": "code",
      "source": [
        "# sdg=pd.read_csv('./MyDrive/MyDrive/omneda_sudan/sdg_indicatorlist_sdn.csv')\n",
        "# sdg_data=pd.read_csv('./MyDrive/MyDrive/omneda_sudan/sdg_data_sdn.csv')\n",
        "# sdg.iloc[10:].head()"
      ],
      "metadata": {
        "id": "rKwdSW3qQI7S"
      },
      "execution_count": 142,
      "outputs": []
    },
    {
      "cell_type": "code",
      "source": [
        "\n",
        "# sdg_data.head()"
      ],
      "metadata": {
        "id": "TIWHhnz5QL8n"
      },
      "execution_count": 143,
      "outputs": []
    },
    {
      "cell_type": "code",
      "source": [
        "# sdg_merge=sdg_data.merge(sdg, on='indicator_id', how='left')\n",
        "# sdg_merge.drop(0, inplace=True)\n",
        "# sdg_merge['year']=sdg_merge['year'].apply(pd.to_numeric)\n",
        "# sdg_merge['indicator_label_en']=sdg_merge['indicator_label_en'].astype(str)\n",
        "# sdg_merge.drop_duplicates(subset=['year', 'indicator_label_en'], inplace=True)\n",
        "# sdg_merge.head()\n"
      ],
      "metadata": {
        "id": "dYdhD0fvQaab"
      },
      "execution_count": 144,
      "outputs": []
    },
    {
      "cell_type": "code",
      "source": [
        "# sdg_merge.pivot(columns=['indicator_label_en'], values = 'value', index=['year']).reset_index().head()"
      ],
      "metadata": {
        "id": "DrCGm9j7UPhz"
      },
      "execution_count": 145,
      "outputs": []
    },
    {
      "cell_type": "code",
      "source": [
        "# demographics= demographics.merge(sdg_merge.pivot(columns=['indicator_label_en'], values = 'value', index=['year']).reset_index(),\n",
        "#                                  left_on='Year',\n",
        "#                                  right_on='year',\n",
        "#                                  how='left'\n",
        "#                                  ).drop(columns='year')"
      ],
      "metadata": {
        "id": "cbIGf8_ZVQww"
      },
      "execution_count": 146,
      "outputs": []
    },
    {
      "cell_type": "code",
      "source": [],
      "metadata": {
        "id": "koofr_1PfM1-"
      },
      "execution_count": 146,
      "outputs": []
    },
    {
      "cell_type": "code",
      "source": [],
      "metadata": {
        "id": "ObKtHCBTfMyX"
      },
      "execution_count": 146,
      "outputs": []
    },
    {
      "cell_type": "code",
      "source": [
        "# gender = pd.read_csv('./MyDrive/MyDrive/omneda_sudan/gender_sdn.csv')\n",
        "# gender.drop(0, inplace=True)\n",
        "# gender['Indicator Name']=gender['Indicator Name'].astype(str)\n",
        "# gender['Year'] = indicators['Year'].apply(pd.to_numeric)\n",
        "# gender.drop_duplicates(subset=['Year', 'Indicator Name'], inplace=True)\n",
        "# gender.head()"
      ],
      "metadata": {
        "id": "2UhI0ihtSnrY"
      },
      "execution_count": 147,
      "outputs": []
    },
    {
      "cell_type": "code",
      "source": [
        "# gender.pivot(columns=['Indicator Name'], values = 'Value', index=['Year']).reset_index().head()"
      ],
      "metadata": {
        "id": "qb1PDmHJWJtl"
      },
      "execution_count": 148,
      "outputs": []
    },
    {
      "cell_type": "code",
      "source": [
        "# demographics= demographics.merge(gender.pivot(columns=['Indicator Name'], values = 'Value', index=['Year']).reset_index(),\n",
        "#                                  left_on='Year',\n",
        "#                                  right_on='Year',\n",
        "#                                  how='left'\n",
        "#                                  )\n",
        "# # .drop(columns='year')"
      ],
      "metadata": {
        "id": "gLTJTvQeWSG_"
      },
      "execution_count": 149,
      "outputs": []
    },
    {
      "cell_type": "code",
      "source": [],
      "metadata": {
        "id": "U28sYFrSmIpe"
      },
      "execution_count": 149,
      "outputs": []
    },
    {
      "cell_type": "code",
      "source": [],
      "metadata": {
        "id": "glveYAwfpGhA"
      },
      "execution_count": 149,
      "outputs": []
    },
    {
      "cell_type": "code",
      "source": [],
      "metadata": {
        "id": "oh-W0MDSpGdf"
      },
      "execution_count": 149,
      "outputs": []
    },
    {
      "cell_type": "code",
      "source": [],
      "metadata": {
        "id": "znhDMSjgpGam"
      },
      "execution_count": 149,
      "outputs": []
    },
    {
      "cell_type": "code",
      "source": [],
      "metadata": {
        "id": "G2-ZaZyPpGX6"
      },
      "execution_count": 149,
      "outputs": []
    },
    {
      "cell_type": "code",
      "source": [],
      "metadata": {
        "id": "T7S_ff7kpGVB"
      },
      "execution_count": 149,
      "outputs": []
    },
    {
      "cell_type": "code",
      "source": [],
      "metadata": {
        "id": "gsVtjnVWpGSB"
      },
      "execution_count": 149,
      "outputs": []
    },
    {
      "cell_type": "code",
      "source": [],
      "metadata": {
        "id": "OenZXg7ppGPL"
      },
      "execution_count": 149,
      "outputs": []
    },
    {
      "cell_type": "code",
      "source": [],
      "metadata": {
        "id": "L_wztEhRpGMP"
      },
      "execution_count": 149,
      "outputs": []
    },
    {
      "cell_type": "code",
      "source": [],
      "metadata": {
        "id": "OAc_lmqRpGJY"
      },
      "execution_count": 149,
      "outputs": []
    },
    {
      "cell_type": "code",
      "source": [],
      "metadata": {
        "id": "bMuWAQ3GpGGB"
      },
      "execution_count": 149,
      "outputs": []
    },
    {
      "cell_type": "code",
      "source": [],
      "metadata": {
        "id": "Trj3pKYWpGCy"
      },
      "execution_count": 149,
      "outputs": []
    },
    {
      "cell_type": "code",
      "source": [
        "# df=pd.read_csv('./MyDrive/MyDrive/omneda_sudan/education_sdn.csv')\n",
        "# df=cleanFile(df, 'Year', 'Indicator Name')\n",
        "# demographics = mergeIntoDemographics(df, 'Indicator Name', 'Year', 'Value', 'education')"
      ],
      "metadata": {
        "id": "YTjylxIqnRyE"
      },
      "execution_count": 150,
      "outputs": []
    },
    {
      "cell_type": "code",
      "source": [
        "# education = pd.read_csv('./MyDrive/MyDrive/omneda_sudan/education_sdn.csv')\n",
        "# education.drop(0, inplace=True)\n",
        "# education['Indicator Name']=gender['Indicator Name'].astype(str)\n",
        "# education['Year'] = indicators['Year'].apply(pd.to_numeric)\n",
        "# gender.drop_duplicates(subset=['Year', 'Indicator Name'], inplace=True)\n",
        "# education.head()"
      ],
      "metadata": {
        "id": "MpA1ANrXlkrB"
      },
      "execution_count": 151,
      "outputs": []
    },
    {
      "cell_type": "code",
      "source": [
        "demographics= demographics.merge(education.pivot(columns=['Indicator Name'], values = 'Value', index=['Year']).reset_index(),\n",
        "                                 left_on='Year',\n",
        "                                 right_on='Year',\n",
        "                                 how='left'\n",
        "                                 )\n",
        "# .drop(columns='year')"
      ],
      "metadata": {
        "colab": {
          "base_uri": "https://localhost:8080/",
          "height": 356
        },
        "id": "L2NwAS_0lknu",
        "outputId": "bda89df9-74ee-4ea8-d65a-4921fe0c8887"
      },
      "execution_count": 152,
      "outputs": [
        {
          "output_type": "error",
          "ename": "ValueError",
          "evalue": "You are trying to merge on float64 and object columns for key 'Year'. If you wish to proceed you should use pd.concat",
          "traceback": [
            "\u001b[0;31m---------------------------------------------------------------------------\u001b[0m",
            "\u001b[0;31mValueError\u001b[0m                                Traceback (most recent call last)",
            "\u001b[0;32m<ipython-input-152-64d32717bd0f>\u001b[0m in \u001b[0;36m<cell line: 1>\u001b[0;34m()\u001b[0m\n\u001b[0;32m----> 1\u001b[0;31m demographics= demographics.merge(education.pivot(columns=['Indicator Name'], values = 'Value', index=['Year']).reset_index(),\n\u001b[0m\u001b[1;32m      2\u001b[0m                                  \u001b[0mleft_on\u001b[0m\u001b[0;34m=\u001b[0m\u001b[0;34m'Year'\u001b[0m\u001b[0;34m,\u001b[0m\u001b[0;34m\u001b[0m\u001b[0;34m\u001b[0m\u001b[0m\n\u001b[1;32m      3\u001b[0m                                  \u001b[0mright_on\u001b[0m\u001b[0;34m=\u001b[0m\u001b[0;34m'Year'\u001b[0m\u001b[0;34m,\u001b[0m\u001b[0;34m\u001b[0m\u001b[0;34m\u001b[0m\u001b[0m\n\u001b[1;32m      4\u001b[0m                                  \u001b[0mhow\u001b[0m\u001b[0;34m=\u001b[0m\u001b[0;34m'left'\u001b[0m\u001b[0;34m\u001b[0m\u001b[0;34m\u001b[0m\u001b[0m\n\u001b[1;32m      5\u001b[0m                                  )\n",
            "\u001b[0;32m/usr/local/lib/python3.10/dist-packages/pandas/core/frame.py\u001b[0m in \u001b[0;36mmerge\u001b[0;34m(self, right, how, on, left_on, right_on, left_index, right_index, sort, suffixes, copy, indicator, validate)\u001b[0m\n\u001b[1;32m  10830\u001b[0m         \u001b[0;32mfrom\u001b[0m \u001b[0mpandas\u001b[0m\u001b[0;34m.\u001b[0m\u001b[0mcore\u001b[0m\u001b[0;34m.\u001b[0m\u001b[0mreshape\u001b[0m\u001b[0;34m.\u001b[0m\u001b[0mmerge\u001b[0m \u001b[0;32mimport\u001b[0m \u001b[0mmerge\u001b[0m\u001b[0;34m\u001b[0m\u001b[0;34m\u001b[0m\u001b[0m\n\u001b[1;32m  10831\u001b[0m \u001b[0;34m\u001b[0m\u001b[0m\n\u001b[0;32m> 10832\u001b[0;31m         return merge(\n\u001b[0m\u001b[1;32m  10833\u001b[0m             \u001b[0mself\u001b[0m\u001b[0;34m,\u001b[0m\u001b[0;34m\u001b[0m\u001b[0;34m\u001b[0m\u001b[0m\n\u001b[1;32m  10834\u001b[0m             \u001b[0mright\u001b[0m\u001b[0;34m,\u001b[0m\u001b[0;34m\u001b[0m\u001b[0;34m\u001b[0m\u001b[0m\n",
            "\u001b[0;32m/usr/local/lib/python3.10/dist-packages/pandas/core/reshape/merge.py\u001b[0m in \u001b[0;36mmerge\u001b[0;34m(left, right, how, on, left_on, right_on, left_index, right_index, sort, suffixes, copy, indicator, validate)\u001b[0m\n\u001b[1;32m    168\u001b[0m         )\n\u001b[1;32m    169\u001b[0m     \u001b[0;32melse\u001b[0m\u001b[0;34m:\u001b[0m\u001b[0;34m\u001b[0m\u001b[0;34m\u001b[0m\u001b[0m\n\u001b[0;32m--> 170\u001b[0;31m         op = _MergeOperation(\n\u001b[0m\u001b[1;32m    171\u001b[0m             \u001b[0mleft_df\u001b[0m\u001b[0;34m,\u001b[0m\u001b[0;34m\u001b[0m\u001b[0;34m\u001b[0m\u001b[0m\n\u001b[1;32m    172\u001b[0m             \u001b[0mright_df\u001b[0m\u001b[0;34m,\u001b[0m\u001b[0;34m\u001b[0m\u001b[0;34m\u001b[0m\u001b[0m\n",
            "\u001b[0;32m/usr/local/lib/python3.10/dist-packages/pandas/core/reshape/merge.py\u001b[0m in \u001b[0;36m__init__\u001b[0;34m(self, left, right, how, on, left_on, right_on, left_index, right_index, sort, suffixes, indicator, validate)\u001b[0m\n\u001b[1;32m    805\u001b[0m         \u001b[0;31m# validate the merge keys dtypes. We may need to coerce\u001b[0m\u001b[0;34m\u001b[0m\u001b[0;34m\u001b[0m\u001b[0m\n\u001b[1;32m    806\u001b[0m         \u001b[0;31m# to avoid incompatible dtypes\u001b[0m\u001b[0;34m\u001b[0m\u001b[0;34m\u001b[0m\u001b[0m\n\u001b[0;32m--> 807\u001b[0;31m         \u001b[0mself\u001b[0m\u001b[0;34m.\u001b[0m\u001b[0m_maybe_coerce_merge_keys\u001b[0m\u001b[0;34m(\u001b[0m\u001b[0;34m)\u001b[0m\u001b[0;34m\u001b[0m\u001b[0;34m\u001b[0m\u001b[0m\n\u001b[0m\u001b[1;32m    808\u001b[0m \u001b[0;34m\u001b[0m\u001b[0m\n\u001b[1;32m    809\u001b[0m         \u001b[0;31m# If argument passed to validate,\u001b[0m\u001b[0;34m\u001b[0m\u001b[0;34m\u001b[0m\u001b[0m\n",
            "\u001b[0;32m/usr/local/lib/python3.10/dist-packages/pandas/core/reshape/merge.py\u001b[0m in \u001b[0;36m_maybe_coerce_merge_keys\u001b[0;34m(self)\u001b[0m\n\u001b[1;32m   1506\u001b[0m                     \u001b[0minferred_right\u001b[0m \u001b[0;32min\u001b[0m \u001b[0mstring_types\u001b[0m \u001b[0;32mand\u001b[0m \u001b[0minferred_left\u001b[0m \u001b[0;32mnot\u001b[0m \u001b[0;32min\u001b[0m \u001b[0mstring_types\u001b[0m\u001b[0;34m\u001b[0m\u001b[0;34m\u001b[0m\u001b[0m\n\u001b[1;32m   1507\u001b[0m                 ):\n\u001b[0;32m-> 1508\u001b[0;31m                     \u001b[0;32mraise\u001b[0m \u001b[0mValueError\u001b[0m\u001b[0;34m(\u001b[0m\u001b[0mmsg\u001b[0m\u001b[0;34m)\u001b[0m\u001b[0;34m\u001b[0m\u001b[0;34m\u001b[0m\u001b[0m\n\u001b[0m\u001b[1;32m   1509\u001b[0m \u001b[0;34m\u001b[0m\u001b[0m\n\u001b[1;32m   1510\u001b[0m             \u001b[0;31m# datetimelikes must match exactly\u001b[0m\u001b[0;34m\u001b[0m\u001b[0;34m\u001b[0m\u001b[0m\n",
            "\u001b[0;31mValueError\u001b[0m: You are trying to merge on float64 and object columns for key 'Year'. If you wish to proceed you should use pd.concat"
          ]
        }
      ]
    },
    {
      "cell_type": "code",
      "source": [],
      "metadata": {
        "id": "Swr-6yhVlkk1"
      },
      "execution_count": null,
      "outputs": []
    },
    {
      "cell_type": "code",
      "source": [],
      "metadata": {
        "id": "egkYWsrblkiD"
      },
      "execution_count": null,
      "outputs": []
    },
    {
      "cell_type": "code",
      "source": [],
      "metadata": {
        "id": "xzq7eNPFlkfB"
      },
      "execution_count": null,
      "outputs": []
    },
    {
      "cell_type": "code",
      "source": [],
      "metadata": {
        "id": "TClaUyEClkbr"
      },
      "execution_count": null,
      "outputs": []
    },
    {
      "cell_type": "code",
      "source": [],
      "metadata": {
        "id": "LCPgUYEtlkYe"
      },
      "execution_count": null,
      "outputs": []
    },
    {
      "cell_type": "code",
      "source": [
        "# demographics.head()"
      ],
      "metadata": {
        "id": "QuXe8MmGguRu"
      },
      "execution_count": null,
      "outputs": []
    },
    {
      "cell_type": "code",
      "source": [
        "# demographics.to_csv('demographics.csv')"
      ],
      "metadata": {
        "id": "uVjbXfn5hMkp"
      },
      "execution_count": null,
      "outputs": []
    },
    {
      "cell_type": "code",
      "source": [],
      "metadata": {
        "id": "vmS2mMPKh_N5"
      },
      "execution_count": null,
      "outputs": []
    }
  ]
}